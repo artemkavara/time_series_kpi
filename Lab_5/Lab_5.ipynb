{
 "cells": [
  {
   "cell_type": "markdown",
   "id": "complex-sellers",
   "metadata": {},
   "source": [
    "## Лабораторна робота № 5 </br>\n",
    "### Моделювання та оцінювання гетероскедастичних процесів "
   ]
  },
  {
   "cell_type": "code",
   "execution_count": 1,
   "id": "royal-imaging",
   "metadata": {},
   "outputs": [],
   "source": [
    "from statsmodels.tsa.arima.model import ARIMA\n",
    "from statsmodels.tsa.stattools import acf, pacf\n",
    "import matplotlib.pyplot as plt\n",
    "import warnings\n",
    "import numpy as np\n",
    "import pandas as pd\n",
    "\n",
    "\n",
    "%matplotlib inline\n",
    "plt.rcParams[\"figure.figsize\"] = (6,6)\n",
    "warnings.filterwarnings(\"ignore\")"
   ]
  },
  {
   "cell_type": "code",
   "execution_count": 2,
   "id": "august-belly",
   "metadata": {},
   "outputs": [],
   "source": [
    "import sys\n",
    "sys.path.append(\"../\")"
   ]
  },
  {
   "cell_type": "code",
   "execution_count": 3,
   "id": "natural-shadow",
   "metadata": {},
   "outputs": [
    {
     "name": "stdout",
     "output_type": "stream",
     "text": [
      "give me a bottle of rum!\n"
     ]
    }
   ],
   "source": [
    "from Lab_1.metrics import *"
   ]
  },
  {
   "cell_type": "code",
   "execution_count": 4,
   "id": "linear-delight",
   "metadata": {},
   "outputs": [],
   "source": [
    "from arch import arch_model"
   ]
  },
  {
   "cell_type": "code",
   "execution_count": 5,
   "id": "wooden-bernard",
   "metadata": {},
   "outputs": [],
   "source": [
    "def read_data_from_file(file_path):\n",
    "    with open(file_path) as file:\n",
    "        content = file.read()   \n",
    "    content = content.split('\\n')\n",
    "    return list(map(float, content))"
   ]
  },
  {
   "cell_type": "code",
   "execution_count": 6,
   "id": "opposite-abraham",
   "metadata": {},
   "outputs": [],
   "source": [
    "def create_feature_matrix(x, ar):\n",
    "        len_matr = x.shape[0] - ar\n",
    "        feature_matrix = pd.DataFrame({\"intercept\":np.ones((1,len_matr))[0]}, index = range(len_matr))\n",
    "        for i in range(1, ar+1):\n",
    "            feature_matrix[f\"y(k-{i})\"] = x[ar-i:-i]\n",
    "        y = x[ar:]\n",
    "        return y, feature_matrix"
   ]
  },
  {
   "cell_type": "code",
   "execution_count": 7,
   "id": "secret-replica",
   "metadata": {},
   "outputs": [],
   "source": [
    "def lsm(y, feature):\n",
    "\n",
    "        feature_matrix=feature.to_numpy()\n",
    "        inform_matr = np.linalg.pinv(feature_matrix.T@feature_matrix)\n",
    "        inform_matr = inform_matr @ feature_matrix.T\n",
    "        return inform_matr@y"
   ]
  },
  {
   "cell_type": "code",
   "execution_count": 8,
   "id": "smart-australian",
   "metadata": {},
   "outputs": [],
   "source": [
    "data = read_data_from_file('data/ARCH_01.dat')"
   ]
  },
  {
   "cell_type": "code",
   "execution_count": 9,
   "id": "bizarre-preservation",
   "metadata": {},
   "outputs": [
    {
     "data": {
      "image/png": "[encoded data removed]",
      "text/plain": [
       "<Figure size 432x432 with 1 Axes>"
      ]
     },
     "metadata": {
      "needs_background": "light"
     },
     "output_type": "display_data"
    }
   ],
   "source": [
    "plt.plot(data)\n",
    "plt.xlabel('time')\n",
    "plt.ylabel('value')\n",
    "plt.title('ARCH_01.dat')\n",
    "plt.show();"
   ]
  },
  {
   "cell_type": "markdown",
   "id": "intermediate-simulation",
   "metadata": {},
   "source": [
    "### Знайдіть середнє значення ряду, стандартне відхилення"
   ]
  },
  {
   "cell_type": "code",
   "execution_count": 10,
   "id": "neither-greenhouse",
   "metadata": {},
   "outputs": [
    {
     "data": {
      "text/html": [
       "<div>\n",
       "<style scoped>\n",
       "    .dataframe tbody tr th:only-of-type {\n",
       "        vertical-align: middle;\n",
       "    }\n",
       "\n",
       "    .dataframe tbody tr th {\n",
       "        vertical-align: top;\n",
       "    }\n",
       "\n",
       "    .dataframe thead th {\n",
       "        text-align: right;\n",
       "    }\n",
       "</style>\n",
       "<table border=\"1\" class=\"dataframe\">\n",
       "  <thead>\n",
       "    <tr style=\"text-align: right;\">\n",
       "      <th></th>\n",
       "      <th>value</th>\n",
       "    </tr>\n",
       "  </thead>\n",
       "  <tbody>\n",
       "    <tr>\n",
       "      <th>count</th>\n",
       "      <td>100.000000</td>\n",
       "    </tr>\n",
       "    <tr>\n",
       "      <th>mean</th>\n",
       "      <td>0.263369</td>\n",
       "    </tr>\n",
       "    <tr>\n",
       "      <th>std</th>\n",
       "      <td>4.894091</td>\n",
       "    </tr>\n",
       "    <tr>\n",
       "      <th>min</th>\n",
       "      <td>-10.800000</td>\n",
       "    </tr>\n",
       "    <tr>\n",
       "      <th>25%</th>\n",
       "      <td>-1.091000</td>\n",
       "    </tr>\n",
       "    <tr>\n",
       "      <th>50%</th>\n",
       "      <td>-0.083150</td>\n",
       "    </tr>\n",
       "    <tr>\n",
       "      <th>75%</th>\n",
       "      <td>1.309250</td>\n",
       "    </tr>\n",
       "    <tr>\n",
       "      <th>max</th>\n",
       "      <td>15.150000</td>\n",
       "    </tr>\n",
       "  </tbody>\n",
       "</table>\n",
       "</div>"
      ],
      "text/plain": [
       "            value\n",
       "count  100.000000\n",
       "mean     0.263369\n",
       "std      4.894091\n",
       "min    -10.800000\n",
       "25%     -1.091000\n",
       "50%     -0.083150\n",
       "75%      1.309250\n",
       "max     15.150000"
      ]
     },
     "execution_count": 10,
     "metadata": {},
     "output_type": "execute_result"
    }
   ],
   "source": [
    "pd.DataFrame(data, columns =['value']).describe()"
   ]
  },
  {
   "cell_type": "markdown",
   "id": "christian-croatia",
   "metadata": {},
   "source": [
    "### Побудувати для введених даних модель АР(1) "
   ]
  },
  {
   "cell_type": "code",
   "execution_count": 11,
   "id": "provincial-portal",
   "metadata": {},
   "outputs": [
    {
     "data": {
      "text/plain": [
       "array([ 1.        ,  0.92922263, -0.15349537, -0.04926874,  0.02341412,\n",
       "       -0.01291659, -0.17901202,  0.05069447, -0.00350981,  0.06665667,\n",
       "       -0.12681158, -0.14454636, -0.1210458 ,  0.06929319, -0.15570696,\n",
       "        0.12090072,  0.01242465,  0.00846026, -0.1931802 , -0.0073612 ,\n",
       "        0.00927294, -0.11284645, -0.08647626, -0.10118011, -0.0961931 ])"
      ]
     },
     "execution_count": 11,
     "metadata": {},
     "output_type": "execute_result"
    }
   ],
   "source": [
    "pacf(data, nlags =24, method = 'ldb')"
   ]
  },
  {
   "cell_type": "code",
   "execution_count": 12,
   "id": "hollow-spyware",
   "metadata": {},
   "outputs": [
    {
     "data": {
      "text/html": [
       "<table class=\"simpletable\">\n",
       "<caption>SARIMAX Results</caption>\n",
       "<tr>\n",
       "  <th>Dep. Variable:</th>           <td>y</td>        <th>  No. Observations:  </th>    <td>100</td>  \n",
       "</tr>\n",
       "<tr>\n",
       "  <th>Model:</th>            <td>ARIMA(1, 0, 0)</td>  <th>  Log Likelihood     </th> <td>-196.291</td>\n",
       "</tr>\n",
       "<tr>\n",
       "  <th>Date:</th>            <td>Sun, 25 Apr 2021</td> <th>  AIC                </th>  <td>398.582</td>\n",
       "</tr>\n",
       "<tr>\n",
       "  <th>Time:</th>                <td>18:15:05</td>     <th>  BIC                </th>  <td>406.397</td>\n",
       "</tr>\n",
       "<tr>\n",
       "  <th>Sample:</th>                  <td>0</td>        <th>  HQIC               </th>  <td>401.745</td>\n",
       "</tr>\n",
       "<tr>\n",
       "  <th></th>                      <td> - 100</td>      <th>                     </th>     <td> </td>   \n",
       "</tr>\n",
       "<tr>\n",
       "  <th>Covariance Type:</th>        <td>opg</td>       <th>                     </th>     <td> </td>   \n",
       "</tr>\n",
       "</table>\n",
       "<table class=\"simpletable\">\n",
       "<tr>\n",
       "     <td></td>       <th>coef</th>     <th>std err</th>      <th>z</th>      <th>P>|z|</th>  <th>[0.025</th>    <th>0.975]</th>  \n",
       "</tr>\n",
       "<tr>\n",
       "  <th>const</th>  <td>    1.0493</td> <td>    2.803</td> <td>    0.374</td> <td> 0.708</td> <td>   -4.445</td> <td>    6.543</td>\n",
       "</tr>\n",
       "<tr>\n",
       "  <th>ar.L1</th>  <td>    0.9348</td> <td>    0.031</td> <td>   29.942</td> <td> 0.000</td> <td>    0.874</td> <td>    0.996</td>\n",
       "</tr>\n",
       "<tr>\n",
       "  <th>sigma2</th> <td>    2.9073</td> <td>    0.355</td> <td>    8.199</td> <td> 0.000</td> <td>    2.212</td> <td>    3.602</td>\n",
       "</tr>\n",
       "</table>\n",
       "<table class=\"simpletable\">\n",
       "<tr>\n",
       "  <th>Ljung-Box (L1) (Q):</th>     <td>2.55</td> <th>  Jarque-Bera (JB):  </th> <td>13.95</td>\n",
       "</tr>\n",
       "<tr>\n",
       "  <th>Prob(Q):</th>                <td>0.11</td> <th>  Prob(JB):          </th> <td>0.00</td> \n",
       "</tr>\n",
       "<tr>\n",
       "  <th>Heteroskedasticity (H):</th> <td>4.88</td> <th>  Skew:              </th> <td>0.66</td> \n",
       "</tr>\n",
       "<tr>\n",
       "  <th>Prob(H) (two-sided):</th>    <td>0.00</td> <th>  Kurtosis:          </th> <td>4.27</td> \n",
       "</tr>\n",
       "</table><br/><br/>Warnings:<br/>[1] Covariance matrix calculated using the outer product of gradients (complex-step)."
      ],
      "text/plain": [
       "<class 'statsmodels.iolib.summary.Summary'>\n",
       "\"\"\"\n",
       "                               SARIMAX Results                                \n",
       "==============================================================================\n",
       "Dep. Variable:                      y   No. Observations:                  100\n",
       "Model:                 ARIMA(1, 0, 0)   Log Likelihood                -196.291\n",
       "Date:                Sun, 25 Apr 2021   AIC                            398.582\n",
       "Time:                        18:15:05   BIC                            406.397\n",
       "Sample:                             0   HQIC                           401.745\n",
       "                                - 100                                         \n",
       "Covariance Type:                  opg                                         \n",
       "==============================================================================\n",
       "                 coef    std err          z      P>|z|      [0.025      0.975]\n",
       "------------------------------------------------------------------------------\n",
       "const          1.0493      2.803      0.374      0.708      -4.445       6.543\n",
       "ar.L1          0.9348      0.031     29.942      0.000       0.874       0.996\n",
       "sigma2         2.9073      0.355      8.199      0.000       2.212       3.602\n",
       "===================================================================================\n",
       "Ljung-Box (L1) (Q):                   2.55   Jarque-Bera (JB):                13.95\n",
       "Prob(Q):                              0.11   Prob(JB):                         0.00\n",
       "Heteroskedasticity (H):               4.88   Skew:                             0.66\n",
       "Prob(H) (two-sided):                  0.00   Kurtosis:                         4.27\n",
       "===================================================================================\n",
       "\n",
       "Warnings:\n",
       "[1] Covariance matrix calculated using the outer product of gradients (complex-step).\n",
       "\"\"\""
      ]
     },
     "execution_count": 12,
     "metadata": {},
     "output_type": "execute_result"
    }
   ],
   "source": [
    "ar_1 = ARIMA(data, order= ([1], 0 , 0))\n",
    "ar_1 = ar_1.fit()\n",
    "ar_1_predict = ar_1.predict()\n",
    "ar_1.summary()"
   ]
  },
  {
   "cell_type": "code",
   "execution_count": 13,
   "id": "worse-antibody",
   "metadata": {},
   "outputs": [
    {
     "data": {
      "image/png": "[encoded data removed]",
      "text/plain": [
       "<Figure size 432x432 with 1 Axes>"
      ]
     },
     "metadata": {
      "needs_background": "light"
     },
     "output_type": "display_data"
    }
   ],
   "source": [
    "plt.plot(data, label = 'ARCH_01.dat')\n",
    "plt.xlabel('time')\n",
    "plt.ylabel('value')\n",
    "plt.title('ARCH_01.dat')\n",
    "\n",
    "plt.plot(ar_1_predict, label = 'ar_1_predict')\n",
    "plt.xlabel('time')\n",
    "plt.ylabel('value')\n",
    "plt.legend()\n",
    "plt.show();"
   ]
  },
  {
   "cell_type": "markdown",
   "id": "fitted-inflation",
   "metadata": {},
   "source": [
    "### Побудуйте автокореляційну функцію (АКФ) для отриманого після побудови моделі АР(1) ряду із залишків. "
   ]
  },
  {
   "cell_type": "code",
   "execution_count": 14,
   "id": "compressed-nowhere",
   "metadata": {},
   "outputs": [],
   "source": [
    "resid = data - ar_1_predict"
   ]
  },
  {
   "cell_type": "code",
   "execution_count": 15,
   "id": "criminal-wagon",
   "metadata": {},
   "outputs": [
    {
     "data": {
      "text/html": [
       "<div>\n",
       "<style scoped>\n",
       "    .dataframe tbody tr th:only-of-type {\n",
       "        vertical-align: middle;\n",
       "    }\n",
       "\n",
       "    .dataframe tbody tr th {\n",
       "        vertical-align: top;\n",
       "    }\n",
       "\n",
       "    .dataframe thead th {\n",
       "        text-align: right;\n",
       "    }\n",
       "</style>\n",
       "<table border=\"1\" class=\"dataframe\">\n",
       "  <thead>\n",
       "    <tr style=\"text-align: right;\">\n",
       "      <th></th>\n",
       "      <th>value</th>\n",
       "    </tr>\n",
       "  </thead>\n",
       "  <tbody>\n",
       "    <tr>\n",
       "      <th>count</th>\n",
       "      <td>100.000000</td>\n",
       "    </tr>\n",
       "    <tr>\n",
       "      <th>mean</th>\n",
       "      <td>-0.002095</td>\n",
       "    </tr>\n",
       "    <tr>\n",
       "      <th>std</th>\n",
       "      <td>1.713805</td>\n",
       "    </tr>\n",
       "    <tr>\n",
       "      <th>min</th>\n",
       "      <td>-3.591352</td>\n",
       "    </tr>\n",
       "    <tr>\n",
       "      <th>25%</th>\n",
       "      <td>-1.355243</td>\n",
       "    </tr>\n",
       "    <tr>\n",
       "      <th>50%</th>\n",
       "      <td>0.031993</td>\n",
       "    </tr>\n",
       "    <tr>\n",
       "      <th>75%</th>\n",
       "      <td>0.849397</td>\n",
       "    </tr>\n",
       "    <tr>\n",
       "      <th>max</th>\n",
       "      <td>5.848582</td>\n",
       "    </tr>\n",
       "  </tbody>\n",
       "</table>\n",
       "</div>"
      ],
      "text/plain": [
       "            value\n",
       "count  100.000000\n",
       "mean    -0.002095\n",
       "std      1.713805\n",
       "min     -3.591352\n",
       "25%     -1.355243\n",
       "50%      0.031993\n",
       "75%      0.849397\n",
       "max      5.848582"
      ]
     },
     "execution_count": 15,
     "metadata": {},
     "output_type": "execute_result"
    }
   ],
   "source": [
    "pd.DataFrame(resid, columns =['value']).describe()"
   ]
  },
  {
   "cell_type": "code",
   "execution_count": 16,
   "id": "attended-berkeley",
   "metadata": {},
   "outputs": [
    {
     "data": {
      "image/png": "[encoded data removed]",
      "text/plain": [
       "<Figure size 432x432 with 1 Axes>"
      ]
     },
     "metadata": {
      "needs_background": "light"
     },
     "output_type": "display_data"
    }
   ],
   "source": [
    "plt.plot(resid)\n",
    "plt.xlabel('time')\n",
    "plt.ylabel('value')\n",
    "plt.title('Resid')\n",
    "plt.show();"
   ]
  },
  {
   "cell_type": "code",
   "execution_count": 17,
   "id": "efficient-closer",
   "metadata": {},
   "outputs": [
    {
     "data": {
      "text/plain": [
       "array([ 1.        ,  0.15669633,  0.01433378, -0.00930987, -0.00369124,\n",
       "        0.07528894,  0.006888  , -0.09098415, -0.14212275,  0.06777887,\n",
       "        0.10587991,  0.09240054, -0.0341311 ,  0.12803238, -0.06201404,\n",
       "       -0.03927552, -0.05703165,  0.01199997, -0.00586518, -0.03098624,\n",
       "        0.05174283, -0.05408233,  0.06096627,  0.03144894, -0.1945588 ])"
      ]
     },
     "execution_count": 17,
     "metadata": {},
     "output_type": "execute_result"
    }
   ],
   "source": [
    "acf(resid, nlags=24)"
   ]
  },
  {
   "cell_type": "markdown",
   "id": "quick-machine",
   "metadata": {},
   "source": [
    "### Згенеруйте новий ряд із квадратів залишків"
   ]
  },
  {
   "cell_type": "code",
   "execution_count": 18,
   "id": "chicken-examination",
   "metadata": {},
   "outputs": [],
   "source": [
    "resid_sqr = resid*resid"
   ]
  },
  {
   "cell_type": "code",
   "execution_count": 19,
   "id": "helpful-thumbnail",
   "metadata": {},
   "outputs": [
    {
     "data": {
      "text/html": [
       "<div>\n",
       "<style scoped>\n",
       "    .dataframe tbody tr th:only-of-type {\n",
       "        vertical-align: middle;\n",
       "    }\n",
       "\n",
       "    .dataframe tbody tr th {\n",
       "        vertical-align: top;\n",
       "    }\n",
       "\n",
       "    .dataframe thead th {\n",
       "        text-align: right;\n",
       "    }\n",
       "</style>\n",
       "<table border=\"1\" class=\"dataframe\">\n",
       "  <thead>\n",
       "    <tr style=\"text-align: right;\">\n",
       "      <th></th>\n",
       "      <th>value</th>\n",
       "    </tr>\n",
       "  </thead>\n",
       "  <tbody>\n",
       "    <tr>\n",
       "      <th>count</th>\n",
       "      <td>100.000000</td>\n",
       "    </tr>\n",
       "    <tr>\n",
       "      <th>mean</th>\n",
       "      <td>2.907760</td>\n",
       "    </tr>\n",
       "    <tr>\n",
       "      <th>std</th>\n",
       "      <td>5.281829</td>\n",
       "    </tr>\n",
       "    <tr>\n",
       "      <th>min</th>\n",
       "      <td>0.000114</td>\n",
       "    </tr>\n",
       "    <tr>\n",
       "      <th>25%</th>\n",
       "      <td>0.206259</td>\n",
       "    </tr>\n",
       "    <tr>\n",
       "      <th>50%</th>\n",
       "      <td>1.128405</td>\n",
       "    </tr>\n",
       "    <tr>\n",
       "      <th>75%</th>\n",
       "      <td>2.527925</td>\n",
       "    </tr>\n",
       "    <tr>\n",
       "      <th>max</th>\n",
       "      <td>34.205912</td>\n",
       "    </tr>\n",
       "  </tbody>\n",
       "</table>\n",
       "</div>"
      ],
      "text/plain": [
       "            value\n",
       "count  100.000000\n",
       "mean     2.907760\n",
       "std      5.281829\n",
       "min      0.000114\n",
       "25%      0.206259\n",
       "50%      1.128405\n",
       "75%      2.527925\n",
       "max     34.205912"
      ]
     },
     "execution_count": 19,
     "metadata": {},
     "output_type": "execute_result"
    }
   ],
   "source": [
    "pd.DataFrame(resid_sqr, columns =['value']).describe()"
   ]
  },
  {
   "cell_type": "code",
   "execution_count": 20,
   "id": "caroline-hostel",
   "metadata": {},
   "outputs": [
    {
     "data": {
      "image/png": "[encoded data removed]",
      "text/plain": [
       "<Figure size 432x432 with 1 Axes>"
      ]
     },
     "metadata": {
      "needs_background": "light"
     },
     "output_type": "display_data"
    }
   ],
   "source": [
    "plt.plot(resid_sqr)\n",
    "plt.xlabel('time')\n",
    "plt.ylabel('value')\n",
    "plt.title('Resid_sqr')\n",
    "plt.show();"
   ]
  },
  {
   "cell_type": "markdown",
   "id": "married-luxury",
   "metadata": {},
   "source": [
    "### Обчисліть автокореляційну функцію для ряду із квадратів залишків. "
   ]
  },
  {
   "cell_type": "code",
   "execution_count": 21,
   "id": "great-tourism",
   "metadata": {},
   "outputs": [
    {
     "data": {
      "text/plain": [
       "array([ 1.        ,  0.48566616,  0.13249208, -0.05249931, -0.08582649,\n",
       "        0.04973652,  0.22693413,  0.27843206,  0.22345272,  0.13588563,\n",
       "       -0.01050615, -0.07132324, -0.09656088, -0.07361059,  0.01481384,\n",
       "       -0.01705337,  0.01616779,  0.03028693, -0.00801584,  0.01533594,\n",
       "        0.00323824, -0.02393287, -0.06280178, -0.02739885,  0.06118613])"
      ]
     },
     "execution_count": 21,
     "metadata": {},
     "output_type": "execute_result"
    }
   ],
   "source": [
    "acf(resid_sqr, nlags=24)"
   ]
  },
  {
   "cell_type": "markdown",
   "id": "lasting-argument",
   "metadata": {},
   "source": [
    "### За допомогою МНК обчисліть оцінки коефіцієнтів рівняння першого порядку для дисперсії залишків"
   ]
  },
  {
   "cell_type": "code",
   "execution_count": 22,
   "id": "sustainable-presence",
   "metadata": {},
   "outputs": [],
   "source": [
    "y_1, feature_1 = create_feature_matrix(resid_sqr, 1)"
   ]
  },
  {
   "cell_type": "code",
   "execution_count": 23,
   "id": "original-judgment",
   "metadata": {},
   "outputs": [
    {
     "data": {
      "text/plain": [
       "array([1.50582651, 0.48714202])"
      ]
     },
     "execution_count": 23,
     "metadata": {},
     "output_type": "execute_result"
    }
   ],
   "source": [
    "coef_1 = lsm(y_1, feature_1)\n",
    "coef_1"
   ]
  },
  {
   "cell_type": "code",
   "execution_count": 25,
   "id": "processed-satellite",
   "metadata": {},
   "outputs": [],
   "source": [
    "def calc_result(y:list, matr:pd.DataFrame, p:int, q:int):\n",
    "    '''\n",
    "    Calculates the estimation of coefficients of different models and prints some of the results.\n",
    "    Parameters:\n",
    "        y: actual time series\n",
    "        matr: matrix of features\n",
    "    Returns:\n",
    "        fitted: fitted values of model\n",
    "    '''\n",
    "    coefs = lsm(y, matr)\n",
    "    fitted = matr.to_numpy()@coefs\n",
    "    eq_matr = matr.columns.copy()\n",
    "    eq_matr = [f\"{round(coefs[i], 5)}{'*'+eq_matr[i] if eq_matr[i] != 'intercept' else ''}\" \n",
    "               for i in range(len(eq_matr))]\n",
    "    eq = \"\"\n",
    "    for i in range(len(eq_matr)):\n",
    "        eq += \"+ \"+eq_matr[i] if coefs[i] > 0 and i!= 0 else \" \"+eq_matr[i]\n",
    "        eq += \" \"\n",
    "    print(f\"Equation: {eq}\")\n",
    "    print(f\"RSS: {RSS(y, fitted)}\")\n",
    "    print(f\"R^2: {R_squared(y, fitted)}\")\n",
    "    print(f\"IKA: {IKA(y, fitted, p, q)}\")\n",
    "    return fitted"
   ]
  },
  {
   "cell_type": "code",
   "execution_count": 26,
   "id": "completed-columbia",
   "metadata": {},
   "outputs": [
    {
     "name": "stdout",
     "output_type": "stream",
     "text": [
      "Equation:  1.50583 + 0.48714*y(k-1) \n",
      "RSS: 2100.2384085698777\n",
      "R^2: 0.23728229568129844\n",
      "IKA: 761.3308083706547\n"
     ]
    }
   ],
   "source": [
    "fitted_y_1 = calc_result(y_1, feature_1, p = 1, q = 0)"
   ]
  },
  {
   "cell_type": "code",
   "execution_count": 27,
   "id": "revised-resort",
   "metadata": {},
   "outputs": [
    {
     "data": {
      "text/plain": [
       "<matplotlib.legend.Legend at 0x7f0d33666fa0>"
      ]
     },
     "execution_count": 27,
     "metadata": {},
     "output_type": "execute_result"
    },
    {
     "data": {
      "image/png": "[encoded data removed]",
      "text/plain": [
       "<Figure size 432x432 with 1 Axes>"
      ]
     },
     "metadata": {
      "needs_background": "light"
     },
     "output_type": "display_data"
    }
   ],
   "source": [
    "plt.plot(y_1, label = \"actual\")\n",
    "plt.plot(fitted_y_1, label = \"fitted\")\n",
    "plt.legend()"
   ]
  },
  {
   "cell_type": "markdown",
   "id": "rapid-penalty",
   "metadata": {},
   "source": [
    "### Обчисліть коефіцієнти рівняння АРУГ(4)"
   ]
  },
  {
   "cell_type": "code",
   "execution_count": 28,
   "id": "gorgeous-lesbian",
   "metadata": {},
   "outputs": [],
   "source": [
    "y_4, feature_4 = create_feature_matrix(resid_sqr, 4)"
   ]
  },
  {
   "cell_type": "code",
   "execution_count": 29,
   "id": "minus-legend",
   "metadata": {},
   "outputs": [
    {
     "data": {
      "text/plain": [
       "array([ 1.92036876,  0.53941521, -0.09438732, -0.07731528, -0.0069391 ])"
      ]
     },
     "execution_count": 29,
     "metadata": {},
     "output_type": "execute_result"
    }
   ],
   "source": [
    "coef_4 = lsm(y_4, feature_4)\n",
    "coef_4"
   ]
  },
  {
   "cell_type": "code",
   "execution_count": 30,
   "id": "junior-porter",
   "metadata": {},
   "outputs": [
    {
     "name": "stdout",
     "output_type": "stream",
     "text": [
      "Equation:  1.92037 + 0.53942*y(k-1)  -0.09439*y(k-2)  -0.07732*y(k-3)  -0.00694*y(k-4) \n",
      "RSS: 2040.2272680942394\n",
      "R^2: 0.2536631837903989\n",
      "IKA: 741.5983827099167\n"
     ]
    }
   ],
   "source": [
    "fitted_y_4 = calc_result(y_4, feature_4, p = 4, q = 0)"
   ]
  },
  {
   "cell_type": "code",
   "execution_count": 31,
   "id": "false-metadata",
   "metadata": {},
   "outputs": [
    {
     "data": {
      "text/plain": [
       "<matplotlib.legend.Legend at 0x7f0d335cfe20>"
      ]
     },
     "execution_count": 31,
     "metadata": {},
     "output_type": "execute_result"
    },
    {
     "data": {
      "image/png": "[encoded data removed]",
      "text/plain": [
       "<Figure size 432x432 with 1 Axes>"
      ]
     },
     "metadata": {
      "needs_background": "light"
     },
     "output_type": "display_data"
    }
   ],
   "source": [
    "plt.plot(y_4, label = \"actual\")\n",
    "plt.plot(fitted_y_4, label = \"fitted\")\n",
    "plt.legend()"
   ]
  },
  {
   "cell_type": "markdown",
   "id": "outside-maple",
   "metadata": {},
   "source": [
    "### Побудуйте ряд умовних дисперсій для `ARCH_01.DAT`  і побудуйте узагальнену авторегресійну умовно гетероскедастичну (УАРУГ) модель процесу"
   ]
  },
  {
   "cell_type": "code",
   "execution_count": 32,
   "id": "champion-digest",
   "metadata": {},
   "outputs": [],
   "source": [
    "def cond_var(ts:list):\n",
    "    '''\n",
    "    Computation of conditional variance to determine the q lag in GARCH model\n",
    "    Params:\n",
    "        data: time series in list format\n",
    "    Returns:\n",
    "        h: list of conditional variances\n",
    "    '''\n",
    "    h = []\n",
    "    np_ts = np.array(ts)\n",
    "    \n",
    "    for k in range(2, len(ts)):\n",
    "        sub_ts = np_ts[:k]\n",
    "        mean_sub_ts = sub_ts.mean()\n",
    "        h.append(sub_ts.var())\n",
    "    \n",
    "    return h"
   ]
  },
  {
   "cell_type": "code",
   "execution_count": 33,
   "id": "standard-journalism",
   "metadata": {},
   "outputs": [
    {
     "data": {
      "text/plain": [
       "array([ 1.        ,  0.96672342, -0.12347502, -0.0795857 , -0.07309386,\n",
       "       -0.06727752,  0.00635988, -0.04275271,  0.00968174,  0.01946871,\n",
       "        0.03411021,  0.10531371,  0.13038543,  0.06682686, -0.01721172,\n",
       "       -0.04944995, -0.03781251, -0.02711322, -0.01744625, -0.01047048,\n",
       "        0.00346153,  0.00544116,  0.00522321, -0.00578887, -0.04815503])"
      ]
     },
     "execution_count": 33,
     "metadata": {},
     "output_type": "execute_result"
    }
   ],
   "source": [
    "h_data = cond_var(data)\n",
    "pacf(h_data, nlags = 24)"
   ]
  },
  {
   "cell_type": "code",
   "execution_count": 34,
   "id": "cubic-grain",
   "metadata": {},
   "outputs": [
    {
     "data": {
      "image/png": "[encoded data removed]",
      "text/plain": [
       "<Figure size 720x360 with 2 Axes>"
      ]
     },
     "metadata": {
      "needs_background": "light"
     },
     "output_type": "display_data"
    }
   ],
   "source": [
    "fig, ax = plt.subplots(1, 2,figsize=(10, 5))\n",
    "ax[0].bar(range(25),acf(h_data, nlags = 24));\n",
    "ax[1].bar(range(25),pacf(h_data, nlags = 24));\n",
    "ax[0].set_title(\"ACF of h(k)\")\n",
    "ax[1].set_title(\"PACF of h(k)\")\n",
    "\n",
    "fig.show()"
   ]
  },
  {
   "cell_type": "code",
   "execution_count": 35,
   "id": "whole-michael",
   "metadata": {},
   "outputs": [
    {
     "data": {
      "text/plain": [
       "array([ 1.        ,  0.49057187, -0.13889018, -0.08261465, -0.00908478,\n",
       "        0.15022754,  0.19450956,  0.09714705,  0.0600347 ,  0.06032557,\n",
       "       -0.07456528, -0.03592407, -0.11308669, -0.08740893,  0.00446946,\n",
       "       -0.15808696,  0.06283821,  0.04589846,  0.0079943 ,  0.13417262,\n",
       "        0.0206965 ,  0.02509035, -0.06332799,  0.01644656,  0.12129773])"
      ]
     },
     "execution_count": 35,
     "metadata": {},
     "output_type": "execute_result"
    }
   ],
   "source": [
    "pacf(resid_sqr, nlags =24)"
   ]
  },
  {
   "cell_type": "code",
   "execution_count": 36,
   "id": "exclusive-bicycle",
   "metadata": {},
   "outputs": [
    {
     "data": {
      "image/png": "[encoded data removed]",
      "text/plain": [
       "<Figure size 720x360 with 2 Axes>"
      ]
     },
     "metadata": {
      "needs_background": "light"
     },
     "output_type": "display_data"
    }
   ],
   "source": [
    "fig, ax = plt.subplots(1, 2,figsize=(10, 5))\n",
    "ax[0].bar(range(25),acf(resid_sqr, nlags = 24));\n",
    "ax[1].bar(range(25),pacf(resid_sqr, nlags = 24));\n",
    "ax[0].set_title(r\"ACF of $\\varepsilon^2$(k)\")\n",
    "ax[1].set_title(r\"PACF of $\\varepsilon^2$(k)\")\n",
    "\n",
    "fig.show()"
   ]
  },
  {
   "cell_type": "markdown",
   "id": "other-natural",
   "metadata": {},
   "source": [
    "За АКФ $\\varepsilon^2(k)$ та $h(k)$ візьмемо $p = q = 1$"
   ]
  },
  {
   "cell_type": "code",
   "execution_count": 37,
   "id": "amber-girlfriend",
   "metadata": {},
   "outputs": [],
   "source": [
    "def create_feature_matrix_garch(h:list, eps:list, p:int = 1, q:int = 1):\n",
    "    '''\n",
    "    Creation of feature matrix to estimate the GARCH model\n",
    "    Parameters:\n",
    "        h: list of conditional variances\n",
    "        eps: list of residuals\n",
    "        p: number of lags of h(k)\n",
    "        q: number of lags of eps_sq(k)\n",
    "    Returns:\n",
    "        y: list of h(k) \n",
    "        feature_matrix: the created feature matrix\n",
    "    '''\n",
    "    k = max(p, q)\n",
    "    np_h = np.array(h).copy()\n",
    "    len_matr = np_h.shape[0] - k\n",
    "    eps_sq =  (np.array(eps).copy()**2)[2:]\n",
    "    feature_matrix = pd.DataFrame({\"intercept\":np.ones((1,len_matr))[0]}, index = range(len_matr))\n",
    "    for i in range(1, q+1):\n",
    "        feature_matrix[f\"eps_sq(k-{i})\"] = eps_sq[q-i:-i-(k - q)]\n",
    "    for j in range(1, p+1):\n",
    "        feature_matrix[f\"h(k-{j})\"] = np_h[p-j:-j - (k - p)]\n",
    "    y = np_h[-len_matr:]\n",
    "    return y, feature_matrix"
   ]
  },
  {
   "cell_type": "code",
   "execution_count": 38,
   "id": "organized-ocean",
   "metadata": {},
   "outputs": [],
   "source": [
    "h, garch_matr = create_feature_matrix_garch(h_data, resid, p = 1, q = 1)"
   ]
  },
  {
   "cell_type": "code",
   "execution_count": 39,
   "id": "empty-thousand",
   "metadata": {
    "scrolled": true
   },
   "outputs": [
    {
     "data": {
      "text/html": [
       "<div>\n",
       "<style scoped>\n",
       "    .dataframe tbody tr th:only-of-type {\n",
       "        vertical-align: middle;\n",
       "    }\n",
       "\n",
       "    .dataframe tbody tr th {\n",
       "        vertical-align: top;\n",
       "    }\n",
       "\n",
       "    .dataframe thead th {\n",
       "        text-align: right;\n",
       "    }\n",
       "</style>\n",
       "<table border=\"1\" class=\"dataframe\">\n",
       "  <thead>\n",
       "    <tr style=\"text-align: right;\">\n",
       "      <th></th>\n",
       "      <th>intercept</th>\n",
       "      <th>eps_sq(k-1)</th>\n",
       "      <th>h(k-1)</th>\n",
       "    </tr>\n",
       "  </thead>\n",
       "  <tbody>\n",
       "    <tr>\n",
       "      <th>0</th>\n",
       "      <td>1.0</td>\n",
       "      <td>0.087509</td>\n",
       "      <td>0.276623</td>\n",
       "    </tr>\n",
       "    <tr>\n",
       "      <th>1</th>\n",
       "      <td>1.0</td>\n",
       "      <td>0.143022</td>\n",
       "      <td>0.191311</td>\n",
       "    </tr>\n",
       "    <tr>\n",
       "      <th>2</th>\n",
       "      <td>1.0</td>\n",
       "      <td>1.644296</td>\n",
       "      <td>0.183927</td>\n",
       "    </tr>\n",
       "    <tr>\n",
       "      <th>3</th>\n",
       "      <td>1.0</td>\n",
       "      <td>0.002839</td>\n",
       "      <td>0.303253</td>\n",
       "    </tr>\n",
       "    <tr>\n",
       "      <th>4</th>\n",
       "      <td>1.0</td>\n",
       "      <td>10.064183</td>\n",
       "      <td>0.343886</td>\n",
       "    </tr>\n",
       "  </tbody>\n",
       "</table>\n",
       "</div>"
      ],
      "text/plain": [
       "   intercept  eps_sq(k-1)    h(k-1)\n",
       "0        1.0     0.087509  0.276623\n",
       "1        1.0     0.143022  0.191311\n",
       "2        1.0     1.644296  0.183927\n",
       "3        1.0     0.002839  0.303253\n",
       "4        1.0    10.064183  0.343886"
      ]
     },
     "execution_count": 39,
     "metadata": {},
     "output_type": "execute_result"
    }
   ],
   "source": [
    "garch_matr.head()"
   ]
  },
  {
   "cell_type": "code",
   "execution_count": 40,
   "id": "saved-texas",
   "metadata": {},
   "outputs": [
    {
     "name": "stdout",
     "output_type": "stream",
     "text": [
      "Equation:  0.00141 + 0.03244*eps_sq(k-1) + 1.02699*h(k-1) \n",
      "RSS: 22.08719550470156\n",
      "R^2: 0.9950906698683664\n",
      "IKA: 306.21481101349843\n"
     ]
    }
   ],
   "source": [
    "garch_1_fitted = calc_result(h, garch_matr, 1, 1)"
   ]
  },
  {
   "cell_type": "code",
   "execution_count": 41,
   "id": "academic-discount",
   "metadata": {},
   "outputs": [
    {
     "data": {
      "text/plain": [
       "<matplotlib.legend.Legend at 0x7f0d334171c0>"
      ]
     },
     "execution_count": 41,
     "metadata": {},
     "output_type": "execute_result"
    },
    {
     "data": {
      "image/png": "[encoded data removed]",
      "text/plain": [
       "<Figure size 432x432 with 1 Axes>"
      ]
     },
     "metadata": {
      "needs_background": "light"
     },
     "output_type": "display_data"
    }
   ],
   "source": [
    "plt.plot(h, label = \"actual\")\n",
    "plt.plot(garch_1_fitted, label = \"fitted\")\n",
    "plt.legend()"
   ]
  },
  {
   "cell_type": "markdown",
   "id": "technical-sellers",
   "metadata": {},
   "source": [
    "### Побудуйте модель гетероскедастичного процесу"
   ]
  },
  {
   "cell_type": "code",
   "execution_count": 42,
   "id": "loving-essay",
   "metadata": {},
   "outputs": [],
   "source": [
    "cond_res_sq = cond_var(resid)"
   ]
  },
  {
   "cell_type": "code",
   "execution_count": 43,
   "id": "romance-hopkins",
   "metadata": {},
   "outputs": [
    {
     "data": {
      "text/plain": [
       "array([1.        , 0.9243114 , 0.8390088 , 0.73190704, 0.63547203,\n",
       "       0.54371262, 0.49592574, 0.45704053, 0.42442669, 0.39198765,\n",
       "       0.35633783, 0.32199297, 0.29068008, 0.27260923, 0.26542273,\n",
       "       0.25806171, 0.24800858, 0.23470802, 0.21811607, 0.20812681,\n",
       "       0.19502319, 0.18214253, 0.17240944, 0.16474067, 0.15754725])"
      ]
     },
     "execution_count": 43,
     "metadata": {},
     "output_type": "execute_result"
    }
   ],
   "source": [
    "acf(cond_res_sq, nlags = 24)"
   ]
  },
  {
   "cell_type": "code",
   "execution_count": 44,
   "id": "arctic-holder",
   "metadata": {},
   "outputs": [
    {
     "data": {
      "image/png": "[encoded data removed]",
      "text/plain": [
       "<Figure size 720x360 with 2 Axes>"
      ]
     },
     "metadata": {
      "needs_background": "light"
     },
     "output_type": "display_data"
    }
   ],
   "source": [
    "fig, ax = plt.subplots(1, 2,figsize=(10, 5))\n",
    "ax[0].bar(range(25),acf(cond_res_sq, nlags = 24));\n",
    "ax[1].bar(range(25),pacf(cond_res_sq, nlags = 24));\n",
    "ax[0].set_title(r\"ACF of $h_{\\varepsilon^2}(k)$\")\n",
    "ax[1].set_title(r\"PACF of $h_{\\varepsilon^2}(k)$\")\n",
    "\n",
    "fig.show()"
   ]
  },
  {
   "cell_type": "markdown",
   "id": "established-fellow",
   "metadata": {},
   "source": [
    "У даному випадку, $p = 6$, тоді як $q = 1$, як у минулому завданні."
   ]
  },
  {
   "cell_type": "code",
   "execution_count": 45,
   "id": "naked-manufacturer",
   "metadata": {},
   "outputs": [],
   "source": [
    "h_res, garch_matr_res = create_feature_matrix_garch(cond_res_sq, resid, p = 6, q = 1)"
   ]
  },
  {
   "cell_type": "code",
   "execution_count": 46,
   "id": "comprehensive-bailey",
   "metadata": {},
   "outputs": [
    {
     "data": {
      "text/html": [
       "<div>\n",
       "<style scoped>\n",
       "    .dataframe tbody tr th:only-of-type {\n",
       "        vertical-align: middle;\n",
       "    }\n",
       "\n",
       "    .dataframe tbody tr th {\n",
       "        vertical-align: top;\n",
       "    }\n",
       "\n",
       "    .dataframe thead th {\n",
       "        text-align: right;\n",
       "    }\n",
       "</style>\n",
       "<table border=\"1\" class=\"dataframe\">\n",
       "  <thead>\n",
       "    <tr style=\"text-align: right;\">\n",
       "      <th></th>\n",
       "      <th>intercept</th>\n",
       "      <th>eps_sq(k-1)</th>\n",
       "      <th>h(k-1)</th>\n",
       "      <th>h(k-2)</th>\n",
       "      <th>h(k-3)</th>\n",
       "      <th>h(k-4)</th>\n",
       "      <th>h(k-5)</th>\n",
       "      <th>h(k-6)</th>\n",
       "    </tr>\n",
       "  </thead>\n",
       "  <tbody>\n",
       "    <tr>\n",
       "      <th>0</th>\n",
       "      <td>1.0</td>\n",
       "      <td>0.087509</td>\n",
       "      <td>1.714433</td>\n",
       "      <td>0.495255</td>\n",
       "      <td>0.594210</td>\n",
       "      <td>0.288976</td>\n",
       "      <td>0.374736</td>\n",
       "      <td>0.397541</td>\n",
       "    </tr>\n",
       "    <tr>\n",
       "      <th>1</th>\n",
       "      <td>1.0</td>\n",
       "      <td>0.143022</td>\n",
       "      <td>1.874109</td>\n",
       "      <td>1.714433</td>\n",
       "      <td>0.495255</td>\n",
       "      <td>0.594210</td>\n",
       "      <td>0.288976</td>\n",
       "      <td>0.374736</td>\n",
       "    </tr>\n",
       "    <tr>\n",
       "      <th>2</th>\n",
       "      <td>1.0</td>\n",
       "      <td>1.644296</td>\n",
       "      <td>2.078152</td>\n",
       "      <td>1.874109</td>\n",
       "      <td>1.714433</td>\n",
       "      <td>0.495255</td>\n",
       "      <td>0.594210</td>\n",
       "      <td>0.288976</td>\n",
       "    </tr>\n",
       "    <tr>\n",
       "      <th>3</th>\n",
       "      <td>1.0</td>\n",
       "      <td>0.002839</td>\n",
       "      <td>2.100628</td>\n",
       "      <td>2.078152</td>\n",
       "      <td>1.874109</td>\n",
       "      <td>1.714433</td>\n",
       "      <td>0.495255</td>\n",
       "      <td>0.594210</td>\n",
       "    </tr>\n",
       "    <tr>\n",
       "      <th>4</th>\n",
       "      <td>1.0</td>\n",
       "      <td>10.064183</td>\n",
       "      <td>1.962930</td>\n",
       "      <td>2.100628</td>\n",
       "      <td>2.078152</td>\n",
       "      <td>1.874109</td>\n",
       "      <td>1.714433</td>\n",
       "      <td>0.495255</td>\n",
       "    </tr>\n",
       "  </tbody>\n",
       "</table>\n",
       "</div>"
      ],
      "text/plain": [
       "   intercept  eps_sq(k-1)    h(k-1)    h(k-2)    h(k-3)    h(k-4)    h(k-5)  \\\n",
       "0        1.0     0.087509  1.714433  0.495255  0.594210  0.288976  0.374736   \n",
       "1        1.0     0.143022  1.874109  1.714433  0.495255  0.594210  0.288976   \n",
       "2        1.0     1.644296  2.078152  1.874109  1.714433  0.495255  0.594210   \n",
       "3        1.0     0.002839  2.100628  2.078152  1.874109  1.714433  0.495255   \n",
       "4        1.0    10.064183  1.962930  2.100628  2.078152  1.874109  1.714433   \n",
       "\n",
       "     h(k-6)  \n",
       "0  0.397541  \n",
       "1  0.374736  \n",
       "2  0.288976  \n",
       "3  0.594210  \n",
       "4  0.495255  "
      ]
     },
     "execution_count": 46,
     "metadata": {},
     "output_type": "execute_result"
    }
   ],
   "source": [
    "garch_matr_res.head()"
   ]
  },
  {
   "cell_type": "code",
   "execution_count": 49,
   "id": "refined-lawrence",
   "metadata": {},
   "outputs": [
    {
     "name": "stdout",
     "output_type": "stream",
     "text": [
      "Equation:  -0.00626 + 0.0013*eps_sq(k-1) + 1.21947*h(k-1)  -0.06459*h(k-2)  -0.2056*h(k-3)  -0.05996*h(k-4) + 0.12936*h(k-5)  -0.0122*h(k-6) \n",
      "RSS: 0.4478228192778958\n",
      "R^2: 0.9842131962188617\n",
      "IKA: -57.90890080800156\n"
     ]
    }
   ],
   "source": [
    "garch_fitted_res = calc_result(h_res, garch_matr_res, p = 6, q = 1)"
   ]
  },
  {
   "cell_type": "code",
   "execution_count": 48,
   "id": "assured-television",
   "metadata": {},
   "outputs": [
    {
     "data": {
      "text/plain": [
       "<matplotlib.legend.Legend at 0x7f0d332caac0>"
      ]
     },
     "execution_count": 48,
     "metadata": {},
     "output_type": "execute_result"
    },
    {
     "data": {
      "image/png": "[encoded data removed]",
      "text/plain": [
       "<Figure size 432x432 with 1 Axes>"
      ]
     },
     "metadata": {
      "needs_background": "light"
     },
     "output_type": "display_data"
    }
   ],
   "source": [
    "plt.plot(h_res, label = \"actual\")\n",
    "plt.plot(garch_fitted_res, label = \"fitted\")\n",
    "plt.legend()"
   ]
  }
 ],
 "metadata": {
  "kernelspec": {
   "display_name": "Python 3",
   "language": "python",
   "name": "python3"
  },
  "language_info": {
   "codemirror_mode": {
    "name": "ipython",
    "version": 3
   },
   "file_extension": ".py",
   "mimetype": "text/x-python",
   "name": "python",
   "nbconvert_exporter": "python",
   "pygments_lexer": "ipython3",
   "version": "3.8.6"
  }
 },
 "nbformat": 4,
 "nbformat_minor": 5
}
