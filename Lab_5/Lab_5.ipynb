{
 "cells": [
  {
   "cell_type": "markdown",
   "id": "complex-sellers",
   "metadata": {},
   "source": [
    "## Лабораторна робота № 5 </br>\n",
    "### Моделювання та оцінювання гетероскедастичних процесів "
   ]
  },
  {
   "cell_type": "code",
   "execution_count": 1,
   "id": "royal-imaging",
   "metadata": {},
   "outputs": [],
   "source": [
    "from statsmodels.tsa.arima.model import ARIMA\n",
    "from statsmodels.tsa.stattools import acf, pacf\n",
    "import matplotlib.pyplot as plt\n",
    "import warnings\n",
    "import numpy as np\n",
    "import pandas as pd\n",
    "\n",
    "\n",
    "%matplotlib inline\n",
    "plt.rcParams[\"figure.figsize\"] = (6,6)\n",
    "warnings.filterwarnings(\"ignore\")"
   ]
  },
  {
   "cell_type": "code",
   "execution_count": 2,
   "id": "wooden-bernard",
   "metadata": {},
   "outputs": [],
   "source": [
    "def read_data_from_file(file_path):\n",
    "    with open(file_path) as file:\n",
    "        content = file.read()   \n",
    "    content = content.split('\\n')\n",
    "    return list(map(float, content))"
   ]
  },
  {
   "cell_type": "code",
   "execution_count": 3,
   "id": "opposite-abraham",
   "metadata": {},
   "outputs": [],
   "source": [
    "def create_feature_matrix(x, ar):\n",
    "        len_matr = x.shape[0] - ar\n",
    "        feature_matrix = pd.DataFrame({\"intercept\":np.ones((1,len_matr))[0]}, index = range(len_matr))\n",
    "        for i in range(1, ar+1):\n",
    "            feature_matrix[f\"y(k-{i})\"] = x[ar-i:-i]\n",
    "        y = x[ar:]\n",
    "        return y, feature_matrix"
   ]
  },
  {
   "cell_type": "code",
   "execution_count": 4,
   "id": "secret-replica",
   "metadata": {},
   "outputs": [],
   "source": [
    "def lsm(y, feature):\n",
    "\n",
    "        feature_matrix=feature.to_numpy()\n",
    "        inform_matr = np.linalg.inv(feature_matrix.T@feature_matrix)\n",
    "        inform_matr = inform_matr @ feature_matrix.T\n",
    "        return inform_matr@y"
   ]
  },
  {
   "cell_type": "code",
   "execution_count": 5,
   "id": "smart-australian",
   "metadata": {},
   "outputs": [],
   "source": [
    "data = read_data_from_file('data/ARCH_01.dat')"
   ]
  },
  {
   "cell_type": "code",
   "execution_count": 6,
   "id": "bizarre-preservation",
   "metadata": {},
   "outputs": [
    {
     "data": {
      "image/png": "[encoded data removed]",
      "text/plain": [
       "<Figure size 432x432 with 1 Axes>"
      ]
     },
     "metadata": {
      "needs_background": "light"
     },
     "output_type": "display_data"
    }
   ],
   "source": [
    "plt.plot(data)\n",
    "plt.xlabel('time')\n",
    "plt.ylabel('value')\n",
    "plt.title('ARCH_01.dat')\n",
    "plt.show();"
   ]
  },
  {
   "cell_type": "markdown",
   "id": "intermediate-simulation",
   "metadata": {},
   "source": [
    "Знайдіть середнє значення ряду, стандартне відхилення"
   ]
  },
  {
   "cell_type": "code",
   "execution_count": 7,
   "id": "neither-greenhouse",
   "metadata": {},
   "outputs": [
    {
     "data": {
      "text/html": [
       "<div>\n",
       "<style scoped>\n",
       "    .dataframe tbody tr th:only-of-type {\n",
       "        vertical-align: middle;\n",
       "    }\n",
       "\n",
       "    .dataframe tbody tr th {\n",
       "        vertical-align: top;\n",
       "    }\n",
       "\n",
       "    .dataframe thead th {\n",
       "        text-align: right;\n",
       "    }\n",
       "</style>\n",
       "<table border=\"1\" class=\"dataframe\">\n",
       "  <thead>\n",
       "    <tr style=\"text-align: right;\">\n",
       "      <th></th>\n",
       "      <th>value</th>\n",
       "    </tr>\n",
       "  </thead>\n",
       "  <tbody>\n",
       "    <tr>\n",
       "      <th>count</th>\n",
       "      <td>100.000000</td>\n",
       "    </tr>\n",
       "    <tr>\n",
       "      <th>mean</th>\n",
       "      <td>0.263369</td>\n",
       "    </tr>\n",
       "    <tr>\n",
       "      <th>std</th>\n",
       "      <td>4.894091</td>\n",
       "    </tr>\n",
       "    <tr>\n",
       "      <th>min</th>\n",
       "      <td>-10.800000</td>\n",
       "    </tr>\n",
       "    <tr>\n",
       "      <th>25%</th>\n",
       "      <td>-1.091000</td>\n",
       "    </tr>\n",
       "    <tr>\n",
       "      <th>50%</th>\n",
       "      <td>-0.083150</td>\n",
       "    </tr>\n",
       "    <tr>\n",
       "      <th>75%</th>\n",
       "      <td>1.309250</td>\n",
       "    </tr>\n",
       "    <tr>\n",
       "      <th>max</th>\n",
       "      <td>15.150000</td>\n",
       "    </tr>\n",
       "  </tbody>\n",
       "</table>\n",
       "</div>"
      ],
      "text/plain": [
       "            value\n",
       "count  100.000000\n",
       "mean     0.263369\n",
       "std      4.894091\n",
       "min    -10.800000\n",
       "25%     -1.091000\n",
       "50%     -0.083150\n",
       "75%      1.309250\n",
       "max     15.150000"
      ]
     },
     "execution_count": 7,
     "metadata": {},
     "output_type": "execute_result"
    }
   ],
   "source": [
    "pd.DataFrame(data, columns =['value']).describe()"
   ]
  },
  {
   "cell_type": "markdown",
   "id": "christian-croatia",
   "metadata": {},
   "source": [
    "Побудувати для введених даних модель АР(1) "
   ]
  },
  {
   "cell_type": "code",
   "execution_count": 8,
   "id": "provincial-portal",
   "metadata": {},
   "outputs": [
    {
     "data": {
      "text/plain": [
       "array([ 1.        ,  0.92922263, -0.15349537, -0.04926874,  0.02341412,\n",
       "       -0.01291659, -0.17901202,  0.05069447, -0.00350981,  0.06665667,\n",
       "       -0.12681158, -0.14454636, -0.1210458 ,  0.06929319, -0.15570696,\n",
       "        0.12090072,  0.01242465,  0.00846026, -0.1931802 , -0.0073612 ,\n",
       "        0.00927294, -0.11284645, -0.08647626, -0.10118011, -0.0961931 ])"
      ]
     },
     "execution_count": 8,
     "metadata": {},
     "output_type": "execute_result"
    }
   ],
   "source": [
    "pacf(data, nlags =24, method = 'ldb')"
   ]
  },
  {
   "cell_type": "code",
   "execution_count": 9,
   "id": "hollow-spyware",
   "metadata": {},
   "outputs": [
    {
     "data": {
      "text/html": [
       "<table class=\"simpletable\">\n",
       "<caption>SARIMAX Results</caption>\n",
       "<tr>\n",
       "  <th>Dep. Variable:</th>           <td>y</td>        <th>  No. Observations:  </th>    <td>100</td>  \n",
       "</tr>\n",
       "<tr>\n",
       "  <th>Model:</th>            <td>ARIMA(1, 0, 0)</td>  <th>  Log Likelihood     </th> <td>-196.291</td>\n",
       "</tr>\n",
       "<tr>\n",
       "  <th>Date:</th>            <td>Tue, 20 Apr 2021</td> <th>  AIC                </th>  <td>398.582</td>\n",
       "</tr>\n",
       "<tr>\n",
       "  <th>Time:</th>                <td>18:54:13</td>     <th>  BIC                </th>  <td>406.397</td>\n",
       "</tr>\n",
       "<tr>\n",
       "  <th>Sample:</th>                  <td>0</td>        <th>  HQIC               </th>  <td>401.745</td>\n",
       "</tr>\n",
       "<tr>\n",
       "  <th></th>                      <td> - 100</td>      <th>                     </th>     <td> </td>   \n",
       "</tr>\n",
       "<tr>\n",
       "  <th>Covariance Type:</th>        <td>opg</td>       <th>                     </th>     <td> </td>   \n",
       "</tr>\n",
       "</table>\n",
       "<table class=\"simpletable\">\n",
       "<tr>\n",
       "     <td></td>       <th>coef</th>     <th>std err</th>      <th>z</th>      <th>P>|z|</th>  <th>[0.025</th>    <th>0.975]</th>  \n",
       "</tr>\n",
       "<tr>\n",
       "  <th>const</th>  <td>    1.0493</td> <td>    2.803</td> <td>    0.374</td> <td> 0.708</td> <td>   -4.445</td> <td>    6.543</td>\n",
       "</tr>\n",
       "<tr>\n",
       "  <th>ar.L1</th>  <td>    0.9348</td> <td>    0.031</td> <td>   29.942</td> <td> 0.000</td> <td>    0.874</td> <td>    0.996</td>\n",
       "</tr>\n",
       "<tr>\n",
       "  <th>sigma2</th> <td>    2.9073</td> <td>    0.355</td> <td>    8.199</td> <td> 0.000</td> <td>    2.212</td> <td>    3.602</td>\n",
       "</tr>\n",
       "</table>\n",
       "<table class=\"simpletable\">\n",
       "<tr>\n",
       "  <th>Ljung-Box (L1) (Q):</th>     <td>2.55</td> <th>  Jarque-Bera (JB):  </th> <td>13.95</td>\n",
       "</tr>\n",
       "<tr>\n",
       "  <th>Prob(Q):</th>                <td>0.11</td> <th>  Prob(JB):          </th> <td>0.00</td> \n",
       "</tr>\n",
       "<tr>\n",
       "  <th>Heteroskedasticity (H):</th> <td>4.88</td> <th>  Skew:              </th> <td>0.66</td> \n",
       "</tr>\n",
       "<tr>\n",
       "  <th>Prob(H) (two-sided):</th>    <td>0.00</td> <th>  Kurtosis:          </th> <td>4.27</td> \n",
       "</tr>\n",
       "</table><br/><br/>Warnings:<br/>[1] Covariance matrix calculated using the outer product of gradients (complex-step)."
      ],
      "text/plain": [
       "<class 'statsmodels.iolib.summary.Summary'>\n",
       "\"\"\"\n",
       "                               SARIMAX Results                                \n",
       "==============================================================================\n",
       "Dep. Variable:                      y   No. Observations:                  100\n",
       "Model:                 ARIMA(1, 0, 0)   Log Likelihood                -196.291\n",
       "Date:                Tue, 20 Apr 2021   AIC                            398.582\n",
       "Time:                        18:54:13   BIC                            406.397\n",
       "Sample:                             0   HQIC                           401.745\n",
       "                                - 100                                         \n",
       "Covariance Type:                  opg                                         \n",
       "==============================================================================\n",
       "                 coef    std err          z      P>|z|      [0.025      0.975]\n",
       "------------------------------------------------------------------------------\n",
       "const          1.0493      2.803      0.374      0.708      -4.445       6.543\n",
       "ar.L1          0.9348      0.031     29.942      0.000       0.874       0.996\n",
       "sigma2         2.9073      0.355      8.199      0.000       2.212       3.602\n",
       "===================================================================================\n",
       "Ljung-Box (L1) (Q):                   2.55   Jarque-Bera (JB):                13.95\n",
       "Prob(Q):                              0.11   Prob(JB):                         0.00\n",
       "Heteroskedasticity (H):               4.88   Skew:                             0.66\n",
       "Prob(H) (two-sided):                  0.00   Kurtosis:                         4.27\n",
       "===================================================================================\n",
       "\n",
       "Warnings:\n",
       "[1] Covariance matrix calculated using the outer product of gradients (complex-step).\n",
       "\"\"\""
      ]
     },
     "execution_count": 9,
     "metadata": {},
     "output_type": "execute_result"
    }
   ],
   "source": [
    "ar_1 = ARIMA(data, order= ([1], 0 , 0))\n",
    "ar_1 = ar_1.fit()\n",
    "ar_1_predict = ar_1.predict()\n",
    "ar_1.summary()"
   ]
  },
  {
   "cell_type": "code",
   "execution_count": 10,
   "id": "worse-antibody",
   "metadata": {},
   "outputs": [
    {
     "data": {
      "image/png": "[encoded data removed]",
      "text/plain": [
       "<Figure size 432x432 with 1 Axes>"
      ]
     },
     "metadata": {
      "needs_background": "light"
     },
     "output_type": "display_data"
    }
   ],
   "source": [
    "plt.plot(data, label = 'ARCH_01.dat')\n",
    "plt.xlabel('time')\n",
    "plt.ylabel('value')\n",
    "plt.title('ARCH_01.dat')\n",
    "\n",
    "plt.plot(ar_1_predict, label = 'ar_1_predict')\n",
    "plt.xlabel('time')\n",
    "plt.ylabel('value')\n",
    "plt.legend()\n",
    "plt.show();"
   ]
  },
  {
   "cell_type": "markdown",
   "id": "fitted-inflation",
   "metadata": {},
   "source": [
    "Побудуйте автокореляційну функцію (АКФ) для отриманого після побудови моделі АР(1) ряду із залишків. "
   ]
  },
  {
   "cell_type": "code",
   "execution_count": 11,
   "id": "compressed-nowhere",
   "metadata": {},
   "outputs": [],
   "source": [
    "resid = data - ar_1_predict"
   ]
  },
  {
   "cell_type": "code",
   "execution_count": 12,
   "id": "criminal-wagon",
   "metadata": {},
   "outputs": [
    {
     "data": {
      "text/html": [
       "<div>\n",
       "<style scoped>\n",
       "    .dataframe tbody tr th:only-of-type {\n",
       "        vertical-align: middle;\n",
       "    }\n",
       "\n",
       "    .dataframe tbody tr th {\n",
       "        vertical-align: top;\n",
       "    }\n",
       "\n",
       "    .dataframe thead th {\n",
       "        text-align: right;\n",
       "    }\n",
       "</style>\n",
       "<table border=\"1\" class=\"dataframe\">\n",
       "  <thead>\n",
       "    <tr style=\"text-align: right;\">\n",
       "      <th></th>\n",
       "      <th>value</th>\n",
       "    </tr>\n",
       "  </thead>\n",
       "  <tbody>\n",
       "    <tr>\n",
       "      <th>count</th>\n",
       "      <td>100.000000</td>\n",
       "    </tr>\n",
       "    <tr>\n",
       "      <th>mean</th>\n",
       "      <td>-0.002095</td>\n",
       "    </tr>\n",
       "    <tr>\n",
       "      <th>std</th>\n",
       "      <td>1.713805</td>\n",
       "    </tr>\n",
       "    <tr>\n",
       "      <th>min</th>\n",
       "      <td>-3.591352</td>\n",
       "    </tr>\n",
       "    <tr>\n",
       "      <th>25%</th>\n",
       "      <td>-1.355243</td>\n",
       "    </tr>\n",
       "    <tr>\n",
       "      <th>50%</th>\n",
       "      <td>0.031993</td>\n",
       "    </tr>\n",
       "    <tr>\n",
       "      <th>75%</th>\n",
       "      <td>0.849397</td>\n",
       "    </tr>\n",
       "    <tr>\n",
       "      <th>max</th>\n",
       "      <td>5.848582</td>\n",
       "    </tr>\n",
       "  </tbody>\n",
       "</table>\n",
       "</div>"
      ],
      "text/plain": [
       "            value\n",
       "count  100.000000\n",
       "mean    -0.002095\n",
       "std      1.713805\n",
       "min     -3.591352\n",
       "25%     -1.355243\n",
       "50%      0.031993\n",
       "75%      0.849397\n",
       "max      5.848582"
      ]
     },
     "execution_count": 12,
     "metadata": {},
     "output_type": "execute_result"
    }
   ],
   "source": [
    "pd.DataFrame(resid, columns =['value']).describe()"
   ]
  },
  {
   "cell_type": "code",
   "execution_count": 13,
   "id": "attended-berkeley",
   "metadata": {},
   "outputs": [
    {
     "data": {
      "image/png": "[encoded data removed]",
      "text/plain": [
       "<Figure size 432x432 with 1 Axes>"
      ]
     },
     "metadata": {
      "needs_background": "light"
     },
     "output_type": "display_data"
    }
   ],
   "source": [
    "plt.plot(resid)\n",
    "plt.xlabel('time')\n",
    "plt.ylabel('value')\n",
    "plt.title('Resid')\n",
    "plt.show();"
   ]
  },
  {
   "cell_type": "code",
   "execution_count": 14,
   "id": "efficient-closer",
   "metadata": {},
   "outputs": [
    {
     "data": {
      "text/plain": [
       "array([ 1.        ,  0.15669633,  0.01433378, -0.00930987, -0.00369124,\n",
       "        0.07528894,  0.006888  , -0.09098415, -0.14212275,  0.06777887,\n",
       "        0.10587991,  0.09240054, -0.0341311 ,  0.12803238, -0.06201404,\n",
       "       -0.03927552, -0.05703165,  0.01199997, -0.00586518, -0.03098624,\n",
       "        0.05174283, -0.05408233,  0.06096627,  0.03144894, -0.1945588 ])"
      ]
     },
     "execution_count": 14,
     "metadata": {},
     "output_type": "execute_result"
    }
   ],
   "source": [
    "acf(resid, nlags=24)"
   ]
  },
  {
   "cell_type": "markdown",
   "id": "quick-machine",
   "metadata": {},
   "source": [
    "Згенеруйте новий ряд із квадратів залишків"
   ]
  },
  {
   "cell_type": "code",
   "execution_count": 15,
   "id": "chicken-examination",
   "metadata": {},
   "outputs": [],
   "source": [
    "resid_sqr = resid*resid"
   ]
  },
  {
   "cell_type": "code",
   "execution_count": 16,
   "id": "helpful-thumbnail",
   "metadata": {},
   "outputs": [
    {
     "data": {
      "text/html": [
       "<div>\n",
       "<style scoped>\n",
       "    .dataframe tbody tr th:only-of-type {\n",
       "        vertical-align: middle;\n",
       "    }\n",
       "\n",
       "    .dataframe tbody tr th {\n",
       "        vertical-align: top;\n",
       "    }\n",
       "\n",
       "    .dataframe thead th {\n",
       "        text-align: right;\n",
       "    }\n",
       "</style>\n",
       "<table border=\"1\" class=\"dataframe\">\n",
       "  <thead>\n",
       "    <tr style=\"text-align: right;\">\n",
       "      <th></th>\n",
       "      <th>value</th>\n",
       "    </tr>\n",
       "  </thead>\n",
       "  <tbody>\n",
       "    <tr>\n",
       "      <th>count</th>\n",
       "      <td>100.000000</td>\n",
       "    </tr>\n",
       "    <tr>\n",
       "      <th>mean</th>\n",
       "      <td>2.907760</td>\n",
       "    </tr>\n",
       "    <tr>\n",
       "      <th>std</th>\n",
       "      <td>5.281829</td>\n",
       "    </tr>\n",
       "    <tr>\n",
       "      <th>min</th>\n",
       "      <td>0.000114</td>\n",
       "    </tr>\n",
       "    <tr>\n",
       "      <th>25%</th>\n",
       "      <td>0.206259</td>\n",
       "    </tr>\n",
       "    <tr>\n",
       "      <th>50%</th>\n",
       "      <td>1.128405</td>\n",
       "    </tr>\n",
       "    <tr>\n",
       "      <th>75%</th>\n",
       "      <td>2.527925</td>\n",
       "    </tr>\n",
       "    <tr>\n",
       "      <th>max</th>\n",
       "      <td>34.205912</td>\n",
       "    </tr>\n",
       "  </tbody>\n",
       "</table>\n",
       "</div>"
      ],
      "text/plain": [
       "            value\n",
       "count  100.000000\n",
       "mean     2.907760\n",
       "std      5.281829\n",
       "min      0.000114\n",
       "25%      0.206259\n",
       "50%      1.128405\n",
       "75%      2.527925\n",
       "max     34.205912"
      ]
     },
     "execution_count": 16,
     "metadata": {},
     "output_type": "execute_result"
    }
   ],
   "source": [
    "pd.DataFrame(resid_sqr, columns =['value']).describe()"
   ]
  },
  {
   "cell_type": "code",
   "execution_count": 17,
   "id": "caroline-hostel",
   "metadata": {},
   "outputs": [
    {
     "data": {
      "image/png": "[encoded data removed]",
      "text/plain": [
       "<Figure size 432x432 with 1 Axes>"
      ]
     },
     "metadata": {
      "needs_background": "light"
     },
     "output_type": "display_data"
    }
   ],
   "source": [
    "plt.plot(resid_sqr)\n",
    "plt.xlabel('time')\n",
    "plt.ylabel('value')\n",
    "plt.title('Resid_sqr')\n",
    "plt.show();"
   ]
  },
  {
   "cell_type": "markdown",
   "id": "married-luxury",
   "metadata": {},
   "source": [
    "Обчисліть автокореляційну функцію для ряду із квадратів залишків. "
   ]
  },
  {
   "cell_type": "code",
   "execution_count": 18,
   "id": "great-tourism",
   "metadata": {},
   "outputs": [
    {
     "data": {
      "text/plain": [
       "array([ 1.        ,  0.48566616,  0.13249208, -0.05249931, -0.08582649,\n",
       "        0.04973652,  0.22693413,  0.27843206,  0.22345272,  0.13588563,\n",
       "       -0.01050615, -0.07132324, -0.09656088, -0.07361059,  0.01481384,\n",
       "       -0.01705337,  0.01616779,  0.03028693, -0.00801584,  0.01533594,\n",
       "        0.00323824, -0.02393287, -0.06280178, -0.02739885,  0.06118613])"
      ]
     },
     "execution_count": 18,
     "metadata": {},
     "output_type": "execute_result"
    }
   ],
   "source": [
    "acf(resid_sqr, nlags=24)"
   ]
  },
  {
   "cell_type": "markdown",
   "id": "lasting-argument",
   "metadata": {},
   "source": [
    "За допомогою МНК обчисліть оцінки коефіцієнтів рівняння першого порядку для дисперсії залишків"
   ]
  },
  {
   "cell_type": "code",
   "execution_count": 19,
   "id": "sustainable-presence",
   "metadata": {},
   "outputs": [],
   "source": [
    "y_1, feature_1 = create_feature_matrix(resid_sqr, 1)"
   ]
  },
  {
   "cell_type": "code",
   "execution_count": 20,
   "id": "original-judgment",
   "metadata": {},
   "outputs": [
    {
     "data": {
      "text/plain": [
       "array([1.50582651, 0.48714202])"
      ]
     },
     "execution_count": 20,
     "metadata": {},
     "output_type": "execute_result"
    }
   ],
   "source": [
    "coef_1 = lsm(y_1, feature_1)\n",
    "coef_1"
   ]
  },
  {
   "cell_type": "markdown",
   "id": "rapid-penalty",
   "metadata": {},
   "source": [
    "Обчисліть коефіцієнти рівняння АРУГ(4)"
   ]
  },
  {
   "cell_type": "code",
   "execution_count": 22,
   "id": "gorgeous-lesbian",
   "metadata": {},
   "outputs": [],
   "source": [
    "y_4, feature_4 = create_feature_matrix(resid_sqr, 4)"
   ]
  },
  {
   "cell_type": "code",
   "execution_count": 23,
   "id": "minus-legend",
   "metadata": {},
   "outputs": [
    {
     "data": {
      "text/plain": [
       "array([ 1.92036876,  0.53941521, -0.09438732, -0.07731528, -0.0069391 ])"
      ]
     },
     "execution_count": 23,
     "metadata": {},
     "output_type": "execute_result"
    }
   ],
   "source": [
    "coef_4 = lsm(y_4, feature_4)\n",
    "coef_4"
   ]
  },
  {
   "cell_type": "code",
   "execution_count": null,
   "id": "tight-possession",
   "metadata": {},
   "outputs": [],
   "source": []
  }
 ],
 "metadata": {
  "kernelspec": {
   "display_name": "Python 3",
   "language": "python",
   "name": "python3"
  },
  "language_info": {
   "codemirror_mode": {
    "name": "ipython",
    "version": 3
   },
   "file_extension": ".py",
   "mimetype": "text/x-python",
   "name": "python",
   "nbconvert_exporter": "python",
   "pygments_lexer": "ipython3",
   "version": "3.7.4"
  }
 },
 "nbformat": 4,
 "nbformat_minor": 5
}
