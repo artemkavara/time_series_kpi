{
 "cells": [
  {
   "cell_type": "markdown",
   "id": "active-placement",
   "metadata": {},
   "source": [
    "## ЗАХИСТ"
   ]
  },
  {
   "cell_type": "markdown",
   "id": "maritime-cathedral",
   "metadata": {},
   "source": [
    "## Лабораторна робота № 5\n",
    "### Моделювання та оцінювання гетероскедастичних процесів "
   ]
  },
  {
   "cell_type": "code",
   "execution_count": 1,
   "id": "oriented-garden",
   "metadata": {},
   "outputs": [],
   "source": [
    "from statsmodels.tsa.arima.model import ARIMA\n",
    "from statsmodels.tsa.stattools import acf, pacf\n",
    "import matplotlib.pyplot as plt\n",
    "import warnings\n",
    "import numpy as np\n",
    "import pandas as pd\n",
    "\n",
    "\n",
    "%matplotlib inline\n",
    "plt.rcParams[\"figure.figsize\"] = (6,6)\n",
    "warnings.filterwarnings(\"ignore\")"
   ]
  },
  {
   "cell_type": "code",
   "execution_count": 2,
   "id": "cognitive-hunger",
   "metadata": {},
   "outputs": [],
   "source": [
    "import sys\n",
    "sys.path.append(\"../\")"
   ]
  },
  {
   "cell_type": "code",
   "execution_count": 3,
   "id": "confident-tutorial",
   "metadata": {},
   "outputs": [
    {
     "name": "stdout",
     "output_type": "stream",
     "text": [
      "give me a bottle of rum!\n"
     ]
    }
   ],
   "source": [
    "from Lab_1.metrics import *"
   ]
  },
  {
   "cell_type": "code",
   "execution_count": 4,
   "id": "mighty-moses",
   "metadata": {},
   "outputs": [],
   "source": [
    "from arch import arch_model"
   ]
  },
  {
   "cell_type": "code",
   "execution_count": 5,
   "id": "dried-overhead",
   "metadata": {},
   "outputs": [],
   "source": [
    "def read_data_from_file(file_path):\n",
    "    with open(file_path) as file:\n",
    "        content = file.read()   \n",
    "    content = content.split('\\n')\n",
    "    return list(map(float, content))"
   ]
  },
  {
   "cell_type": "code",
   "execution_count": 6,
   "id": "alive-statistics",
   "metadata": {},
   "outputs": [],
   "source": [
    "def create_feature_matrix(x, ar):\n",
    "        len_matr = x.shape[0] - ar\n",
    "        feature_matrix = pd.DataFrame({\"intercept\":np.ones((1,len_matr))[0]}, index = range(len_matr))\n",
    "        for i in range(1, ar+1):\n",
    "            feature_matrix[f\"y(k-{i})\"] = x[ar-i:-i]\n",
    "        y = x[ar:]\n",
    "        return y, feature_matrix"
   ]
  },
  {
   "cell_type": "code",
   "execution_count": 7,
   "id": "exterior-senator",
   "metadata": {},
   "outputs": [],
   "source": [
    "def lsm(y, feature):\n",
    "\n",
    "        feature_matrix=feature.to_numpy()\n",
    "        inform_matr = np.linalg.pinv(feature_matrix.T@feature_matrix)\n",
    "        inform_matr = inform_matr @ feature_matrix.T\n",
    "        return inform_matr@y"
   ]
  },
  {
   "cell_type": "code",
   "execution_count": 8,
   "id": "classified-fashion",
   "metadata": {},
   "outputs": [],
   "source": [
    "def plot_acf(y:list, nlags:int = 24, label = None):\n",
    "    '''\n",
    "    Plot the ACF/PACF\n",
    "    Params:\n",
    "        y: list (time series)\n",
    "        nlags: number of lags to use in computations\n",
    "        label: label to show in the title of plot\n",
    "    '''\n",
    "    fig, ax = plt.subplots(1, 2,figsize=(10, 5))\n",
    "    ax[0].bar(range(nlags+1),acf(y, nlags = nlags));\n",
    "    ax[1].bar(range(nlags+1),pacf(y, nlags = nlags));\n",
    "    ax[0].set_title(r\"ACF of \"+label)\n",
    "    ax[1].set_title(r\"PACF of \"+label)\n",
    "    fig.show();"
   ]
  },
  {
   "cell_type": "code",
   "execution_count": 9,
   "id": "streaming-hampshire",
   "metadata": {},
   "outputs": [],
   "source": [
    "def calc_result(y:list, matr:pd.DataFrame, p:int, q:int):\n",
    "    '''\n",
    "    Calculates the estimation of coefficients of different models and prints some of the results.\n",
    "    Parameters:\n",
    "        y: actual time series\n",
    "        matr: matrix of features\n",
    "    Returns:\n",
    "        fitted: fitted values of model\n",
    "    '''\n",
    "    coefs = lsm(y, matr)\n",
    "    fitted = matr.to_numpy()@coefs\n",
    "    eq_matr = matr.columns.copy()\n",
    "    eq_matr = [f\"{round(coefs[i], 5)}{'*'+eq_matr[i] if eq_matr[i] != 'intercept' else ''}\" \n",
    "               for i in range(len(eq_matr))]\n",
    "    eq = \"\"\n",
    "    for i in range(len(eq_matr)):\n",
    "        eq += \"+ \"+eq_matr[i] if coefs[i] > 0 and i!= 0 else \" \"+eq_matr[i]\n",
    "        eq += \" \"\n",
    "    print(f\"Equation: {eq}\")\n",
    "    print(f\"RSS: {RSS(y, fitted)}\")\n",
    "    print(f\"R^2: {R_squared(y, fitted)}\")\n",
    "    print(f\"IKA: {IKA(y, fitted, p, q)}\")\n",
    "    return fitted"
   ]
  },
  {
   "cell_type": "code",
   "execution_count": 10,
   "id": "sitting-lobby",
   "metadata": {},
   "outputs": [],
   "source": [
    "def cond_var(ts:list):\n",
    "    '''\n",
    "    Computation of conditional variance to determine the q lag in GARCH model\n",
    "    Params:\n",
    "        data: time series in list format\n",
    "    Returns:\n",
    "        h: list of conditional variances\n",
    "    '''\n",
    "    h = []\n",
    "    np_ts = np.array(ts)\n",
    "    \n",
    "    for k in range(2, len(ts)):\n",
    "        sub_ts = np_ts[:k]\n",
    "        mean_sub_ts = sub_ts.mean()\n",
    "        h.append(sub_ts.var())\n",
    "    \n",
    "    return h"
   ]
  },
  {
   "cell_type": "code",
   "execution_count": 11,
   "id": "enormous-nursing",
   "metadata": {},
   "outputs": [],
   "source": [
    "def create_feature_matrix_garch(h:list, eps:list, p:int = 1, q:int = 1):\n",
    "    '''\n",
    "    Creation of feature matrix to estimate the GARCH model\n",
    "    Parameters:\n",
    "        h: list of conditional variances\n",
    "        eps: list of residuals\n",
    "        p: number of lags of h(k)\n",
    "        q: number of lags of eps_sq(k)\n",
    "    Returns:\n",
    "        y: list of h(k) \n",
    "        feature_matrix: the created feature matrix\n",
    "    '''\n",
    "    k = max(p, q)\n",
    "    np_h = np.array(h).copy()\n",
    "    len_matr = np_h.shape[0] - k\n",
    "    eps_sq =  (np.array(eps).copy()**2)[2:]\n",
    "    feature_matrix = pd.DataFrame({\"intercept\":np.ones((1,len_matr))[0]}, index = range(len_matr))\n",
    "    for i in range(1, q+1):\n",
    "        feature_matrix[f\"eps_sq(k-{i})\"] = eps_sq[q-i:-i-(k - q)]\n",
    "    for j in range(1, p+1):\n",
    "        feature_matrix[f\"h(k-{j})\"] = np_h[p-j:-j - (k - p)]\n",
    "    y = np_h[-len_matr:]\n",
    "    return y, feature_matrix"
   ]
  },
  {
   "cell_type": "markdown",
   "id": "simple-inspection",
   "metadata": {},
   "source": [
    "### Завантаження даних"
   ]
  },
  {
   "cell_type": "code",
   "execution_count": 12,
   "id": "sophisticated-worcester",
   "metadata": {},
   "outputs": [],
   "source": [
    "close = pd.read_csv('data/close.txt')['<CLOSE>']"
   ]
  },
  {
   "cell_type": "code",
   "execution_count": 13,
   "id": "worldwide-trauma",
   "metadata": {},
   "outputs": [
    {
     "data": {
      "text/plain": [
       "0      1.7006\n",
       "1      1.7055\n",
       "2      1.7508\n",
       "3      1.7677\n",
       "4      1.7483\n",
       "        ...  \n",
       "396    1.9685\n",
       "397    1.9736\n",
       "398    2.0248\n",
       "399    2.0500\n",
       "400    2.0385\n",
       "Name: <CLOSE>, Length: 401, dtype: float64"
      ]
     },
     "execution_count": 13,
     "metadata": {},
     "output_type": "execute_result"
    }
   ],
   "source": [
    "close"
   ]
  },
  {
   "cell_type": "code",
   "execution_count": 14,
   "id": "editorial-january",
   "metadata": {
    "scrolled": false
   },
   "outputs": [
    {
     "data": {
      "image/png": "[encoded data removed]",
      "text/plain": [
       "<Figure size 432x432 with 1 Axes>"
      ]
     },
     "metadata": {
      "needs_background": "light"
     },
     "output_type": "display_data"
    }
   ],
   "source": [
    "plt.plot(close)\n",
    "plt.xlabel('time')\n",
    "plt.ylabel('value')\n",
    "plt.title('<CLOSE>')\n",
    "plt.show();"
   ]
  },
  {
   "cell_type": "code",
   "execution_count": 15,
   "id": "labeled-boost",
   "metadata": {},
   "outputs": [
    {
     "data": {
      "text/plain": [
       "count    401.000000\n",
       "mean       1.325419\n",
       "std        0.369457\n",
       "min        0.440000\n",
       "25%        1.135400\n",
       "50%        1.261900\n",
       "75%        1.565000\n",
       "max        2.160900\n",
       "Name: <CLOSE>, dtype: float64"
      ]
     },
     "execution_count": 15,
     "metadata": {},
     "output_type": "execute_result"
    }
   ],
   "source": [
    "close.describe()"
   ]
  },
  {
   "cell_type": "markdown",
   "id": "orange-johnston",
   "metadata": {},
   "source": [
    "### AP"
   ]
  },
  {
   "cell_type": "code",
   "execution_count": 16,
   "id": "proved-member",
   "metadata": {},
   "outputs": [
    {
     "data": {
      "text/plain": [
       "array([ 1.        ,  0.98783285, -0.03486103, -0.07288542,  0.01853641,\n",
       "       -0.02251184, -0.01075101, -0.00255554, -0.02440396, -0.02661034,\n",
       "       -0.05059924,  0.00111426, -0.05642264,  0.00793306, -0.07168448,\n",
       "       -0.01836656,  0.0107893 , -0.01502234,  0.01266902,  0.03123616,\n",
       "        0.01217266, -0.02505754,  0.06484417, -0.06341434,  0.03579758])"
      ]
     },
     "execution_count": 16,
     "metadata": {},
     "output_type": "execute_result"
    }
   ],
   "source": [
    "pacf(close, nlags =24, method = 'ldb')"
   ]
  },
  {
   "cell_type": "code",
   "execution_count": 17,
   "id": "anticipated-thumb",
   "metadata": {},
   "outputs": [
    {
     "data": {
      "image/png": "[encoded data removed]",
      "text/plain": [
       "<Figure size 720x360 with 2 Axes>"
      ]
     },
     "metadata": {
      "needs_background": "light"
     },
     "output_type": "display_data"
    }
   ],
   "source": [
    "plot_acf(close, label = \"close\")"
   ]
  },
  {
   "cell_type": "markdown",
   "id": "growing-reference",
   "metadata": {},
   "source": [
    "p = 1"
   ]
  },
  {
   "cell_type": "code",
   "execution_count": 18,
   "id": "critical-spring",
   "metadata": {},
   "outputs": [
    {
     "data": {
      "text/html": [
       "<table class=\"simpletable\">\n",
       "<caption>SARIMAX Results</caption>\n",
       "<tr>\n",
       "  <th>Dep. Variable:</th>        <td><CLOSE></td>     <th>  No. Observations:  </th>    <td>401</td>   \n",
       "</tr>\n",
       "<tr>\n",
       "  <th>Model:</th>            <td>ARIMA(1, 0, 0)</td>  <th>  Log Likelihood     </th>  <td>707.933</td> \n",
       "</tr>\n",
       "<tr>\n",
       "  <th>Date:</th>            <td>Mon, 26 Apr 2021</td> <th>  AIC                </th> <td>-1409.866</td>\n",
       "</tr>\n",
       "<tr>\n",
       "  <th>Time:</th>                <td>14:27:52</td>     <th>  BIC                </th> <td>-1397.884</td>\n",
       "</tr>\n",
       "<tr>\n",
       "  <th>Sample:</th>                  <td>0</td>        <th>  HQIC               </th> <td>-1405.122</td>\n",
       "</tr>\n",
       "<tr>\n",
       "  <th></th>                      <td> - 401</td>      <th>                     </th>     <td> </td>    \n",
       "</tr>\n",
       "<tr>\n",
       "  <th>Covariance Type:</th>        <td>opg</td>       <th>                     </th>     <td> </td>    \n",
       "</tr>\n",
       "</table>\n",
       "<table class=\"simpletable\">\n",
       "<tr>\n",
       "     <td></td>       <th>coef</th>     <th>std err</th>      <th>z</th>      <th>P>|z|</th>  <th>[0.025</th>    <th>0.975]</th>  \n",
       "</tr>\n",
       "<tr>\n",
       "  <th>const</th>  <td>    1.6703</td> <td>    0.983</td> <td>    1.699</td> <td> 0.089</td> <td>   -0.257</td> <td>    3.598</td>\n",
       "</tr>\n",
       "<tr>\n",
       "  <th>ar.L1</th>  <td>    0.9971</td> <td>    0.004</td> <td>  256.166</td> <td> 0.000</td> <td>    0.989</td> <td>    1.005</td>\n",
       "</tr>\n",
       "<tr>\n",
       "  <th>sigma2</th> <td>    0.0017</td> <td> 7.17e-05</td> <td>   23.585</td> <td> 0.000</td> <td>    0.002</td> <td>    0.002</td>\n",
       "</tr>\n",
       "</table>\n",
       "<table class=\"simpletable\">\n",
       "<tr>\n",
       "  <th>Ljung-Box (L1) (Q):</th>     <td>0.74</td> <th>  Jarque-Bera (JB):  </th> <td>455.67</td>\n",
       "</tr>\n",
       "<tr>\n",
       "  <th>Prob(Q):</th>                <td>0.39</td> <th>  Prob(JB):          </th>  <td>0.00</td> \n",
       "</tr>\n",
       "<tr>\n",
       "  <th>Heteroskedasticity (H):</th> <td>0.37</td> <th>  Skew:              </th>  <td>-1.09</td>\n",
       "</tr>\n",
       "<tr>\n",
       "  <th>Prob(H) (two-sided):</th>    <td>0.00</td> <th>  Kurtosis:          </th>  <td>7.75</td> \n",
       "</tr>\n",
       "</table><br/><br/>Warnings:<br/>[1] Covariance matrix calculated using the outer product of gradients (complex-step)."
      ],
      "text/plain": [
       "<class 'statsmodels.iolib.summary.Summary'>\n",
       "\"\"\"\n",
       "                               SARIMAX Results                                \n",
       "==============================================================================\n",
       "Dep. Variable:                <CLOSE>   No. Observations:                  401\n",
       "Model:                 ARIMA(1, 0, 0)   Log Likelihood                 707.933\n",
       "Date:                Mon, 26 Apr 2021   AIC                          -1409.866\n",
       "Time:                        14:27:52   BIC                          -1397.884\n",
       "Sample:                             0   HQIC                         -1405.122\n",
       "                                - 401                                         \n",
       "Covariance Type:                  opg                                         \n",
       "==============================================================================\n",
       "                 coef    std err          z      P>|z|      [0.025      0.975]\n",
       "------------------------------------------------------------------------------\n",
       "const          1.6703      0.983      1.699      0.089      -0.257       3.598\n",
       "ar.L1          0.9971      0.004    256.166      0.000       0.989       1.005\n",
       "sigma2         0.0017   7.17e-05     23.585      0.000       0.002       0.002\n",
       "===================================================================================\n",
       "Ljung-Box (L1) (Q):                   0.74   Jarque-Bera (JB):               455.67\n",
       "Prob(Q):                              0.39   Prob(JB):                         0.00\n",
       "Heteroskedasticity (H):               0.37   Skew:                            -1.09\n",
       "Prob(H) (two-sided):                  0.00   Kurtosis:                         7.75\n",
       "===================================================================================\n",
       "\n",
       "Warnings:\n",
       "[1] Covariance matrix calculated using the outer product of gradients (complex-step).\n",
       "\"\"\""
      ]
     },
     "execution_count": 18,
     "metadata": {},
     "output_type": "execute_result"
    }
   ],
   "source": [
    "ar_c = ARIMA(close, order= ([1], 0 , 0))\n",
    "ar_c = ar_c.fit()\n",
    "ar_c_predict = ar_c.predict()\n",
    "ar_c.summary()"
   ]
  },
  {
   "cell_type": "code",
   "execution_count": 19,
   "id": "loving-arcade",
   "metadata": {},
   "outputs": [
    {
     "data": {
      "image/png": "[encoded data removed]",
      "text/plain": [
       "<Figure size 432x432 with 1 Axes>"
      ]
     },
     "metadata": {
      "needs_background": "light"
     },
     "output_type": "display_data"
    }
   ],
   "source": [
    "plt.plot(close, label = 'real')\n",
    "plt.xlabel('time')\n",
    "plt.ylabel('value')\n",
    "plt.title('<CLOSE>')\n",
    "\n",
    "plt.plot(ar_c_predict, label = 'ar_c_predict')\n",
    "plt.xlabel('time')\n",
    "plt.ylabel('value')\n",
    "plt.legend()\n",
    "plt.show();"
   ]
  },
  {
   "cell_type": "markdown",
   "id": "seventh-theater",
   "metadata": {},
   "source": [
    "### Залишок "
   ]
  },
  {
   "cell_type": "code",
   "execution_count": 20,
   "id": "metric-violation",
   "metadata": {},
   "outputs": [],
   "source": [
    "resid_close = close - ar_c_predict"
   ]
  },
  {
   "cell_type": "code",
   "execution_count": 21,
   "id": "filled-exhibition",
   "metadata": {},
   "outputs": [
    {
     "data": {
      "image/png": "[encoded data removed]",
      "text/plain": [
       "<Figure size 432x432 with 1 Axes>"
      ]
     },
     "metadata": {
      "needs_background": "light"
     },
     "output_type": "display_data"
    }
   ],
   "source": [
    "plt.plot(resid_close)\n",
    "plt.xlabel('time')\n",
    "plt.ylabel('value')\n",
    "plt.title('resid_close')\n",
    "plt.show();"
   ]
  },
  {
   "cell_type": "code",
   "execution_count": 22,
   "id": "positive-given",
   "metadata": {},
   "outputs": [
    {
     "data": {
      "text/plain": [
       "array([ 1.        ,  0.04300734,  0.13524153,  0.0037254 ,  0.05234339,\n",
       "       -0.01072571,  0.06498443,  0.03902823,  0.04694437,  0.08088826,\n",
       "       -0.02953143,  0.06458193, -0.03851352,  0.14064737,  0.06410783,\n",
       "       -0.046891  , -0.01471355,  0.00289712, -0.02913845, -0.00349292,\n",
       "        0.00335587, -0.02496354,  0.03774314, -0.09288446, -0.01673207])"
      ]
     },
     "execution_count": 22,
     "metadata": {},
     "output_type": "execute_result"
    }
   ],
   "source": [
    "acf(resid_close, nlags=24)"
   ]
  },
  {
   "cell_type": "code",
   "execution_count": 23,
   "id": "assumed-composer",
   "metadata": {},
   "outputs": [
    {
     "data": {
      "image/png": "[encoded data removed]",
      "text/plain": [
       "<Figure size 720x360 with 2 Axes>"
      ]
     },
     "metadata": {
      "needs_background": "light"
     },
     "output_type": "display_data"
    }
   ],
   "source": [
    "plot_acf(resid_close, label = \"residuals of AR(1)\")"
   ]
  },
  {
   "cell_type": "markdown",
   "id": "elegant-pitch",
   "metadata": {},
   "source": [
    "### Квадрат залишків"
   ]
  },
  {
   "cell_type": "code",
   "execution_count": 24,
   "id": "educated-newman",
   "metadata": {},
   "outputs": [],
   "source": [
    "resid_close_sqr = resid_close*resid_close"
   ]
  },
  {
   "cell_type": "code",
   "execution_count": 25,
   "id": "technological-breeding",
   "metadata": {},
   "outputs": [
    {
     "data": {
      "image/png": "[encoded data removed]",
      "text/plain": [
       "<Figure size 432x432 with 1 Axes>"
      ]
     },
     "metadata": {
      "needs_background": "light"
     },
     "output_type": "display_data"
    }
   ],
   "source": [
    "plt.plot(resid_close_sqr)\n",
    "plt.xlabel('time')\n",
    "plt.ylabel('value')\n",
    "plt.title('resid_close_sqr')\n",
    "plt.show();"
   ]
  },
  {
   "cell_type": "code",
   "execution_count": 26,
   "id": "herbal-provision",
   "metadata": {},
   "outputs": [
    {
     "data": {
      "text/plain": [
       "array([ 1.        ,  0.18476458,  0.04228719,  0.04259643,  0.32278459,\n",
       "        0.08371067,  0.07369049,  0.02198099, -0.0958198 ,  0.13351286,\n",
       "       -0.07616991,  0.02540772,  0.12119728, -0.00617932,  0.01391961,\n",
       "       -0.01728904, -0.07284424, -0.10328254,  0.00252532,  0.01850908,\n",
       "       -0.00270259,  0.07512049,  0.01396308,  0.00660383,  0.0061012 ])"
      ]
     },
     "execution_count": 26,
     "metadata": {},
     "output_type": "execute_result"
    }
   ],
   "source": [
    "pacf(resid_close_sqr, nlags=24)"
   ]
  },
  {
   "cell_type": "code",
   "execution_count": 27,
   "id": "blessed-exhaust",
   "metadata": {},
   "outputs": [
    {
     "data": {
      "image/png": "[encoded data removed]",
      "text/plain": [
       "<Figure size 720x360 with 2 Axes>"
      ]
     },
     "metadata": {
      "needs_background": "light"
     },
     "output_type": "display_data"
    }
   ],
   "source": [
    "plot_acf(resid_close_sqr, label = r\"$\\varepsilon^2$(k) of AR(1)\")"
   ]
  },
  {
   "cell_type": "markdown",
   "id": "proof-liechtenstein",
   "metadata": {},
   "source": [
    "### Ряд умовних дисперсій"
   ]
  },
  {
   "cell_type": "code",
   "execution_count": 28,
   "id": "uniform-picking",
   "metadata": {},
   "outputs": [
    {
     "data": {
      "text/plain": [
       "array([ 1.00000000e+00,  9.96896564e-01, -2.04230604e-01, -1.70658504e-01,\n",
       "       -1.50094657e-01, -1.22918587e-01, -9.44641506e-02, -8.76309542e-02,\n",
       "       -7.88910385e-02, -6.62200924e-02, -5.50699837e-02, -4.29945915e-02,\n",
       "       -3.36542844e-02, -2.92095344e-02, -2.44926372e-02, -2.22698678e-02,\n",
       "       -1.68872911e-02, -1.41985996e-02, -5.64816215e-03, -8.22308962e-03,\n",
       "       -3.00102144e-03, -8.22989845e-04, -9.90901170e-03, -2.07370130e-02,\n",
       "       -2.62273094e-02])"
      ]
     },
     "execution_count": 28,
     "metadata": {},
     "output_type": "execute_result"
    }
   ],
   "source": [
    "h_close = cond_var(close)\n",
    "pacf(h_close, nlags = 24)"
   ]
  },
  {
   "cell_type": "code",
   "execution_count": 29,
   "id": "western-fossil",
   "metadata": {},
   "outputs": [
    {
     "data": {
      "image/png": "[encoded data removed]",
      "text/plain": [
       "<Figure size 720x360 with 2 Axes>"
      ]
     },
     "metadata": {
      "needs_background": "light"
     },
     "output_type": "display_data"
    }
   ],
   "source": [
    "plot_acf(h_close, label = \"h(k)\")"
   ]
  },
  {
   "cell_type": "markdown",
   "id": "prospective-gauge",
   "metadata": {},
   "source": [
    "### УАРУГ"
   ]
  },
  {
   "cell_type": "markdown",
   "id": "hired-belarus",
   "metadata": {},
   "source": [
    "За АКФ $\\varepsilon^2(k)$ та $h(k)$ візьмемо $p = 2,q = 4$"
   ]
  },
  {
   "cell_type": "code",
   "execution_count": 30,
   "id": "published-indian",
   "metadata": {},
   "outputs": [],
   "source": [
    "h_c, garch_matr_c = create_feature_matrix_garch(h_close, resid_close, p = 2, q = 4)"
   ]
  },
  {
   "cell_type": "code",
   "execution_count": 31,
   "id": "sought-drove",
   "metadata": {},
   "outputs": [
    {
     "data": {
      "text/html": [
       "<div>\n",
       "<style scoped>\n",
       "    .dataframe tbody tr th:only-of-type {\n",
       "        vertical-align: middle;\n",
       "    }\n",
       "\n",
       "    .dataframe tbody tr th {\n",
       "        vertical-align: top;\n",
       "    }\n",
       "\n",
       "    .dataframe thead th {\n",
       "        text-align: right;\n",
       "    }\n",
       "</style>\n",
       "<table border=\"1\" class=\"dataframe\">\n",
       "  <thead>\n",
       "    <tr style=\"text-align: right;\">\n",
       "      <th></th>\n",
       "      <th>intercept</th>\n",
       "      <th>eps_sq(k-1)</th>\n",
       "      <th>eps_sq(k-2)</th>\n",
       "      <th>eps_sq(k-3)</th>\n",
       "      <th>eps_sq(k-4)</th>\n",
       "      <th>h(k-1)</th>\n",
       "      <th>h(k-2)</th>\n",
       "    </tr>\n",
       "  </thead>\n",
       "  <tbody>\n",
       "    <tr>\n",
       "      <th>0</th>\n",
       "      <td>1.0</td>\n",
       "      <td>1.006466e-03</td>\n",
       "      <td>3.655437e-04</td>\n",
       "      <td>2.935074e-04</td>\n",
       "      <td>0.002061</td>\n",
       "      <td>0.000511</td>\n",
       "      <td>0.000006</td>\n",
       "    </tr>\n",
       "    <tr>\n",
       "      <th>1</th>\n",
       "      <td>1.0</td>\n",
       "      <td>1.577142e-02</td>\n",
       "      <td>1.006466e-03</td>\n",
       "      <td>3.655437e-04</td>\n",
       "      <td>0.000294</td>\n",
       "      <td>0.000828</td>\n",
       "      <td>0.000511</td>\n",
       "    </tr>\n",
       "    <tr>\n",
       "      <th>2</th>\n",
       "      <td>1.0</td>\n",
       "      <td>4.191512e-07</td>\n",
       "      <td>1.577142e-02</td>\n",
       "      <td>1.006466e-03</td>\n",
       "      <td>0.000366</td>\n",
       "      <td>0.000710</td>\n",
       "      <td>0.000828</td>\n",
       "    </tr>\n",
       "    <tr>\n",
       "      <th>3</th>\n",
       "      <td>1.0</td>\n",
       "      <td>3.907313e-05</td>\n",
       "      <td>4.191512e-07</td>\n",
       "      <td>1.577142e-02</td>\n",
       "      <td>0.001006</td>\n",
       "      <td>0.000875</td>\n",
       "      <td>0.000710</td>\n",
       "    </tr>\n",
       "    <tr>\n",
       "      <th>4</th>\n",
       "      <td>1.0</td>\n",
       "      <td>1.392020e-05</td>\n",
       "      <td>3.907313e-05</td>\n",
       "      <td>4.191512e-07</td>\n",
       "      <td>0.015771</td>\n",
       "      <td>0.001703</td>\n",
       "      <td>0.000875</td>\n",
       "    </tr>\n",
       "  </tbody>\n",
       "</table>\n",
       "</div>"
      ],
      "text/plain": [
       "   intercept   eps_sq(k-1)   eps_sq(k-2)   eps_sq(k-3)  eps_sq(k-4)    h(k-1)  \\\n",
       "0        1.0  1.006466e-03  3.655437e-04  2.935074e-04     0.002061  0.000511   \n",
       "1        1.0  1.577142e-02  1.006466e-03  3.655437e-04     0.000294  0.000828   \n",
       "2        1.0  4.191512e-07  1.577142e-02  1.006466e-03     0.000366  0.000710   \n",
       "3        1.0  3.907313e-05  4.191512e-07  1.577142e-02     0.001006  0.000875   \n",
       "4        1.0  1.392020e-05  3.907313e-05  4.191512e-07     0.015771  0.001703   \n",
       "\n",
       "     h(k-2)  \n",
       "0  0.000006  \n",
       "1  0.000511  \n",
       "2  0.000828  \n",
       "3  0.000710  \n",
       "4  0.000875  "
      ]
     },
     "execution_count": 31,
     "metadata": {},
     "output_type": "execute_result"
    }
   ],
   "source": [
    "garch_matr_c.head()"
   ]
  },
  {
   "cell_type": "code",
   "execution_count": 32,
   "id": "shaped-suspension",
   "metadata": {},
   "outputs": [
    {
     "name": "stdout",
     "output_type": "stream",
     "text": [
      "Equation:  0.00035 + 0.06504*eps_sq(k-1) + 0.0864*eps_sq(k-2) + 0.11601*eps_sq(k-3)  -0.01466*eps_sq(k-4) + 3.75292*h(k-1)  -2.75972*h(k-2) \n",
      "RSS: 0.000682595368662111\n",
      "R^2: 0.9993875644853406\n",
      "IKA: -2865.395281013633\n"
     ]
    }
   ],
   "source": [
    "garch_1_fitted = calc_result(h_c, garch_matr_c, 2, 4)"
   ]
  },
  {
   "cell_type": "code",
   "execution_count": 33,
   "id": "official-momentum",
   "metadata": {},
   "outputs": [
    {
     "data": {
      "image/png": "[encoded data removed]",
      "text/plain": [
       "<Figure size 432x432 with 1 Axes>"
      ]
     },
     "metadata": {
      "needs_background": "light"
     },
     "output_type": "display_data"
    }
   ],
   "source": [
    "plt.plot(h_c, label = \"actual\")\n",
    "plt.plot(garch_1_fitted, label = \"fitted\")\n",
    "plt.legend()\n",
    "plt.show();"
   ]
  },
  {
   "cell_type": "markdown",
   "id": "equivalent-preservation",
   "metadata": {},
   "source": [
    "### Модель гетероскедастичного процесу"
   ]
  },
  {
   "cell_type": "code",
   "execution_count": 34,
   "id": "frequent-coordinator",
   "metadata": {},
   "outputs": [],
   "source": [
    "cond_res_sq = cond_var(resid_close)"
   ]
  },
  {
   "cell_type": "code",
   "execution_count": 35,
   "id": "complete-filter",
   "metadata": {},
   "outputs": [
    {
     "data": {
      "text/plain": [
       "array([ 1.        ,  0.9665491 ,  0.04713185, -0.04562348,  0.07489945,\n",
       "       -0.05552957,  0.4269703 , -0.01353281, -0.06234217,  0.05874999,\n",
       "       -0.09979544,  0.20030414, -0.03699211, -0.15378425,  0.03658562,\n",
       "       -0.14813386,  0.06900722, -0.02453473, -0.12846855,  0.03435327,\n",
       "       -0.11161632,  0.03219985,  0.00186393, -0.08450701,  0.05210454])"
      ]
     },
     "execution_count": 35,
     "metadata": {},
     "output_type": "execute_result"
    }
   ],
   "source": [
    "pacf(cond_res_sq, nlags = 24)"
   ]
  },
  {
   "cell_type": "code",
   "execution_count": 36,
   "id": "intended-programmer",
   "metadata": {},
   "outputs": [
    {
     "data": {
      "image/png": "[encoded data removed]",
      "text/plain": [
       "<Figure size 720x360 with 2 Axes>"
      ]
     },
     "metadata": {
      "needs_background": "light"
     },
     "output_type": "display_data"
    }
   ],
   "source": [
    "plot_acf(cond_res_sq, label = r\"$h_{\\varepsilon^2}(k)$\")"
   ]
  },
  {
   "cell_type": "markdown",
   "id": "interpreted-photography",
   "metadata": {},
   "source": [
    "За АКФ $\\varepsilon^2(k)$ та $h(k)$ візьмемо $p = 11,q = 4$"
   ]
  },
  {
   "cell_type": "code",
   "execution_count": 37,
   "id": "operating-faculty",
   "metadata": {},
   "outputs": [],
   "source": [
    "h_res, garch_matr_res = create_feature_matrix_garch(cond_res_sq, resid_close, p = 11, q = 4)"
   ]
  },
  {
   "cell_type": "code",
   "execution_count": 38,
   "id": "asian-northwest",
   "metadata": {},
   "outputs": [
    {
     "data": {
      "text/html": [
       "<div>\n",
       "<style scoped>\n",
       "    .dataframe tbody tr th:only-of-type {\n",
       "        vertical-align: middle;\n",
       "    }\n",
       "\n",
       "    .dataframe tbody tr th {\n",
       "        vertical-align: top;\n",
       "    }\n",
       "\n",
       "    .dataframe thead th {\n",
       "        text-align: right;\n",
       "    }\n",
       "</style>\n",
       "<table border=\"1\" class=\"dataframe\">\n",
       "  <thead>\n",
       "    <tr style=\"text-align: right;\">\n",
       "      <th></th>\n",
       "      <th>intercept</th>\n",
       "      <th>eps_sq(k-1)</th>\n",
       "      <th>eps_sq(k-2)</th>\n",
       "      <th>eps_sq(k-3)</th>\n",
       "      <th>eps_sq(k-4)</th>\n",
       "      <th>h(k-1)</th>\n",
       "      <th>h(k-2)</th>\n",
       "      <th>h(k-3)</th>\n",
       "      <th>h(k-4)</th>\n",
       "      <th>h(k-5)</th>\n",
       "      <th>h(k-6)</th>\n",
       "      <th>h(k-7)</th>\n",
       "      <th>h(k-8)</th>\n",
       "      <th>h(k-9)</th>\n",
       "      <th>h(k-10)</th>\n",
       "      <th>h(k-11)</th>\n",
       "    </tr>\n",
       "  </thead>\n",
       "  <tbody>\n",
       "    <tr>\n",
       "      <th>0</th>\n",
       "      <td>1.0</td>\n",
       "      <td>1.006466e-03</td>\n",
       "      <td>3.655437e-04</td>\n",
       "      <td>2.935074e-04</td>\n",
       "      <td>0.002061</td>\n",
       "      <td>0.001709</td>\n",
       "      <td>0.001865</td>\n",
       "      <td>0.002047</td>\n",
       "      <td>0.002274</td>\n",
       "      <td>0.002551</td>\n",
       "      <td>0.002915</td>\n",
       "      <td>0.000439</td>\n",
       "      <td>0.000485</td>\n",
       "      <td>0.000226</td>\n",
       "      <td>0.000278</td>\n",
       "      <td>0.000160</td>\n",
       "    </tr>\n",
       "    <tr>\n",
       "      <th>1</th>\n",
       "      <td>1.0</td>\n",
       "      <td>1.577142e-02</td>\n",
       "      <td>1.006466e-03</td>\n",
       "      <td>3.655437e-04</td>\n",
       "      <td>0.000294</td>\n",
       "      <td>0.001585</td>\n",
       "      <td>0.001709</td>\n",
       "      <td>0.001865</td>\n",
       "      <td>0.002047</td>\n",
       "      <td>0.002274</td>\n",
       "      <td>0.002551</td>\n",
       "      <td>0.002915</td>\n",
       "      <td>0.000439</td>\n",
       "      <td>0.000485</td>\n",
       "      <td>0.000226</td>\n",
       "      <td>0.000278</td>\n",
       "    </tr>\n",
       "    <tr>\n",
       "      <th>2</th>\n",
       "      <td>1.0</td>\n",
       "      <td>4.191512e-07</td>\n",
       "      <td>1.577142e-02</td>\n",
       "      <td>1.006466e-03</td>\n",
       "      <td>0.000366</td>\n",
       "      <td>0.001482</td>\n",
       "      <td>0.001585</td>\n",
       "      <td>0.001709</td>\n",
       "      <td>0.001865</td>\n",
       "      <td>0.002047</td>\n",
       "      <td>0.002274</td>\n",
       "      <td>0.002551</td>\n",
       "      <td>0.002915</td>\n",
       "      <td>0.000439</td>\n",
       "      <td>0.000485</td>\n",
       "      <td>0.000226</td>\n",
       "    </tr>\n",
       "    <tr>\n",
       "      <th>3</th>\n",
       "      <td>1.0</td>\n",
       "      <td>3.907313e-05</td>\n",
       "      <td>4.191512e-07</td>\n",
       "      <td>1.577142e-02</td>\n",
       "      <td>0.001006</td>\n",
       "      <td>0.001392</td>\n",
       "      <td>0.001482</td>\n",
       "      <td>0.001585</td>\n",
       "      <td>0.001709</td>\n",
       "      <td>0.001865</td>\n",
       "      <td>0.002047</td>\n",
       "      <td>0.002274</td>\n",
       "      <td>0.002551</td>\n",
       "      <td>0.002915</td>\n",
       "      <td>0.000439</td>\n",
       "      <td>0.000485</td>\n",
       "    </tr>\n",
       "    <tr>\n",
       "      <th>4</th>\n",
       "      <td>1.0</td>\n",
       "      <td>1.392020e-05</td>\n",
       "      <td>3.907313e-05</td>\n",
       "      <td>4.191512e-07</td>\n",
       "      <td>0.015771</td>\n",
       "      <td>0.001314</td>\n",
       "      <td>0.001392</td>\n",
       "      <td>0.001482</td>\n",
       "      <td>0.001585</td>\n",
       "      <td>0.001709</td>\n",
       "      <td>0.001865</td>\n",
       "      <td>0.002047</td>\n",
       "      <td>0.002274</td>\n",
       "      <td>0.002551</td>\n",
       "      <td>0.002915</td>\n",
       "      <td>0.000439</td>\n",
       "    </tr>\n",
       "  </tbody>\n",
       "</table>\n",
       "</div>"
      ],
      "text/plain": [
       "   intercept   eps_sq(k-1)   eps_sq(k-2)   eps_sq(k-3)  eps_sq(k-4)    h(k-1)  \\\n",
       "0        1.0  1.006466e-03  3.655437e-04  2.935074e-04     0.002061  0.001709   \n",
       "1        1.0  1.577142e-02  1.006466e-03  3.655437e-04     0.000294  0.001585   \n",
       "2        1.0  4.191512e-07  1.577142e-02  1.006466e-03     0.000366  0.001482   \n",
       "3        1.0  3.907313e-05  4.191512e-07  1.577142e-02     0.001006  0.001392   \n",
       "4        1.0  1.392020e-05  3.907313e-05  4.191512e-07     0.015771  0.001314   \n",
       "\n",
       "     h(k-2)    h(k-3)    h(k-4)    h(k-5)    h(k-6)    h(k-7)    h(k-8)  \\\n",
       "0  0.001865  0.002047  0.002274  0.002551  0.002915  0.000439  0.000485   \n",
       "1  0.001709  0.001865  0.002047  0.002274  0.002551  0.002915  0.000439   \n",
       "2  0.001585  0.001709  0.001865  0.002047  0.002274  0.002551  0.002915   \n",
       "3  0.001482  0.001585  0.001709  0.001865  0.002047  0.002274  0.002551   \n",
       "4  0.001392  0.001482  0.001585  0.001709  0.001865  0.002047  0.002274   \n",
       "\n",
       "     h(k-9)   h(k-10)   h(k-11)  \n",
       "0  0.000226  0.000278  0.000160  \n",
       "1  0.000485  0.000226  0.000278  \n",
       "2  0.000439  0.000485  0.000226  \n",
       "3  0.002915  0.000439  0.000485  \n",
       "4  0.002551  0.002915  0.000439  "
      ]
     },
     "execution_count": 38,
     "metadata": {},
     "output_type": "execute_result"
    }
   ],
   "source": [
    "garch_matr_res.head()"
   ]
  },
  {
   "cell_type": "code",
   "execution_count": 39,
   "id": "desirable-screening",
   "metadata": {},
   "outputs": [
    {
     "name": "stdout",
     "output_type": "stream",
     "text": [
      "Equation:  2e-05 + 0.00041*eps_sq(k-1)  -0.00166*eps_sq(k-2) + 0.00168*eps_sq(k-3)  -0.00028*eps_sq(k-4) + 1.12592*h(k-1)  -0.14138*h(k-2)  -0.04191*h(k-3) + 0.42083*h(k-4)  -0.30737*h(k-5)  -0.04685*h(k-6)  -0.02187*h(k-7)  -0.00061*h(k-8)  -0.0081*h(k-9) + 0.0034*h(k-10) + 0.00723*h(k-11) \n",
      "RSS: 1.2273671807673588e-06\n",
      "R^2: 0.9919963594786727\n",
      "IKA: -5248.9280042351065\n"
     ]
    }
   ],
   "source": [
    "garch_fitted_res = calc_result(h_res, garch_matr_res, p = 11, q = 4)"
   ]
  },
  {
   "cell_type": "code",
   "execution_count": 40,
   "id": "twenty-romance",
   "metadata": {},
   "outputs": [
    {
     "data": {
      "image/png": "[encoded data removed]",
      "text/plain": [
       "<Figure size 432x432 with 1 Axes>"
      ]
     },
     "metadata": {
      "needs_background": "light"
     },
     "output_type": "display_data"
    }
   ],
   "source": [
    "plt.plot(h_res, label = \"actual\")\n",
    "plt.plot(garch_fitted_res, label = \"fitted\")\n",
    "plt.legend()\n",
    "plt.show();"
   ]
  }
 ],
 "metadata": {
  "kernelspec": {
   "display_name": "Python 3",
   "language": "python",
   "name": "python3"
  },
  "language_info": {
   "codemirror_mode": {
    "name": "ipython",
    "version": 3
   },
   "file_extension": ".py",
   "mimetype": "text/x-python",
   "name": "python",
   "nbconvert_exporter": "python",
   "pygments_lexer": "ipython3",
   "version": "3.8.6"
  }
 },
 "nbformat": 4,
 "nbformat_minor": 5
}
